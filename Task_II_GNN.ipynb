{
  "nbformat": 4,
  "nbformat_minor": 0,
  "metadata": {
    "colab": {
      "provenance": []
    },
    "kernelspec": {
      "name": "python3",
      "display_name": "Python 3"
    },
    "language_info": {
      "name": "python"
    }
  },
  "cells": [
    {
      "cell_type": "markdown",
      "source": [
        "# Task II"
      ],
      "metadata": {
        "id": "hfPNnnyX_AJY"
      }
    },
    {
      "cell_type": "markdown",
      "source": [
        "# My Approaches"
      ],
      "metadata": {
        "id": "vD3ZeYBEBzID"
      }
    },
    {
      "cell_type": "markdown",
      "source": [
        "I have chosen **ParticleNet** and **EdgeConv** models for the Classical Graph Neural Network training."
      ],
      "metadata": {
        "id": "rLQpXH5AB1DJ"
      }
    },
    {
      "cell_type": "markdown",
      "source": [
        "### 1. EdgeConv\n",
        "\n",
        "EdgeConv is a special building block for convolutional neural networks (CNNs) that works well for complex tasks involving point clouds, like classifying or separating objects. Unlike other methods, it focuses on connections between points (edges) to understand how they relate to each other. It achieves this by creating a dynamic graph that constantly updates based on the data at each layer. This graph connects points that are closest together (k-nearest neighbors), which are determined by the information processing throughout the network.\n",
        "\n",
        "\n",
        "\n",
        "<p align=\"center\">\n",
        "    <img src=\"https://dl.acm.org/cms/attachment/97cd1684-a354-4e86-9698-a6cd5508c1b2/tog3805-146-f02.jpg\" alt=\"EdgeConv\"/>\n",
        "    <br>\n",
        "    Figure: The EdgeConv operation.\n",
        "</p>\n",
        "\n",
        "\n",
        "\n",
        "\n"
      ],
      "metadata": {
        "id": "AqCv3S3Vt0SB"
      }
    },
    {
      "cell_type": "markdown",
      "source": [
        "\n",
        "### 2. ParticleNet\n",
        "\n",
        "ParticleNet is a system built using three EdgeConv blocks, one after another. The first block relies on the particles' positions (in a specific coordinate system) to figure out how close they are. The following blocks, however, use the features learned by the previous block to determine closeness instead of raw positions. ParticleNet Lite has a similar design, also leveraging EdgeConv to understand how nearby points in the point cloud data are related. It uses two EdgeConv blocks, and for both, it considers the 7 closest neighbors around each point.\n",
        "\n",
        "\n",
        "\n",
        "<p align=\"center\">\n",
        "    <img src=\"https://cms-ml.github.io/documentation/images/inference/particlenet_full_arch.png\" alt=\"Particle Net\"/>\n",
        "    <br>\n",
        "    Figure: The architecture of the ParticleNet model.\n",
        "</p>\n",
        "\n",
        "\n",
        "\n",
        "\n"
      ],
      "metadata": {
        "id": "USvu6e3vt_ft"
      }
    },
    {
      "cell_type": "markdown",
      "source": [
        "### Dataset"
      ],
      "metadata": {
        "id": "Fz7zQIU7BSvW"
      }
    },
    {
      "cell_type": "markdown",
      "source": [
        "The dataset used in this project was actually used in P. T. Komiske, E. M. Metodiev, J. Thaler, Energy Flow Networks: Deep Sets for Particle Jets, JHEP 01 (2019) 121, arXiv:1810.05165.\n",
        "\n",
        "It has 20 files consisting of jet data with each file having 100k samples.There are two arrays in each file\n",
        "\n",
        "- X: (100000,M,4), exactly 50k quark and 50k gluon jets, randomly sorted, where M is the max multiplicity of the jets in that file (other jets have been padded with zero-particles), and the features of each particle are its pt, rapidity, azimuthal angle, and pdgid.\n",
        "- y: (100000,), an array of labels for the jets where gluon is 0 and quark is 1.\n",
        "However due to hardware limitations, we use only the first file of the complete dataset i.e. 100k total samples of data in this project.\n",
        "\n",
        "The jets are padded with zero-particles in order to make a contiguous array. The particles are given as (pt,y,phi,pid) values, where-\n",
        "\n",
        "- pid is the particle's PDG ID\n",
        "- pt is Transverse Momentum\n",
        "- y is Rapidity\n",
        "- phi is Azimuthal Angle\n",
        "Using the dataset I have create three dictionaries that contains the \"points\", \"features\", and \"mask\" array for training set, validation set, and testing set-\n",
        "\n",
        "points contains only rapidity and azimuthal angle value as coordinates, this will be used to calculate distance for k-NN.\n",
        "features contains tranverse momentum, rapidity, and Azimuthal angle.\n",
        "mask gives information whether the particle is a real particle from the dataset or just a padded \"zero-particles\" (taking value of zero for the padded positions)."
      ],
      "metadata": {
        "id": "tPApFthpBjaF"
      }
    },
    {
      "cell_type": "markdown",
      "source": [
        "# Implementations"
      ],
      "metadata": {
        "id": "hf4JAgo8sh8P"
      }
    },
    {
      "cell_type": "markdown",
      "source": [
        "## Setup"
      ],
      "metadata": {
        "id": "sD8_QRrN_Dhm"
      }
    },
    {
      "cell_type": "code",
      "source": [
        "%%capture\n",
        "!pip install tensorflow energyflow"
      ],
      "metadata": {
        "id": "53ytGW_e_B9o"
      },
      "execution_count": null,
      "outputs": []
    },
    {
      "cell_type": "code",
      "source": [
        "import numpy as np\n",
        "import matplotlib.pyplot as plt\n",
        "\n",
        "import energyflow\n",
        "import tensorflow as tf\n",
        "from tensorflow import keras\n",
        "\n",
        "from sklearn.model_selection import train_test_split\n",
        "from sklearn.metrics import roc_curve,roc_auc_score"
      ],
      "metadata": {
        "id": "lF1z9DoQ_H2h"
      },
      "execution_count": null,
      "outputs": []
    },
    {
      "cell_type": "markdown",
      "source": [
        "### Functions"
      ],
      "metadata": {
        "id": "xHPRfEJ__TLU"
      }
    },
    {
      "cell_type": "code",
      "source": [
        "def batch_distance_matrix_general(A, B):\n",
        "    with tf.name_scope('dmat'):\n",
        "        r_A = tf.reduce_sum(A * A, axis=2, keepdims=True)\n",
        "        r_B = tf.reduce_sum(B * B, axis=2, keepdims=True)\n",
        "        m = tf.matmul(A, tf.transpose(B, perm=(0, 2, 1)))\n",
        "        D = r_A - 2 * m + tf.transpose(r_B, perm=(0, 2, 1))\n",
        "        return D\n",
        "\n",
        "\n",
        "def knn(topk_indices, features):\n",
        "    '''\n",
        "    topk_indices (tuple/list): (N, P, K)\n",
        "    features (tuple/list): (N, P, C)\n",
        "    '''\n",
        "    with tf.name_scope('knn'):\n",
        "        k = tf.shape(topk_indices)[-1]\n",
        "        num_points = tf.shape(features)[-2]\n",
        "        queries_shape = tf.shape(features)\n",
        "        batch_size = queries_shape[0]\n",
        "        batch_indices = tf.tile(tf.reshape(tf.range(batch_size), (-1, 1, 1, 1)), (1, num_points, k, 1))\n",
        "        indices = tf.concat([batch_indices, tf.expand_dims(topk_indices, axis=3)], axis=3)  # (N, P, K, 2)\n",
        "        return tf.gather_nd(features, indices)"
      ],
      "metadata": {
        "id": "rAdd4JhO_Ieo"
      },
      "execution_count": null,
      "outputs": []
    },
    {
      "cell_type": "markdown",
      "source": [
        "# 1. Particle Net"
      ],
      "metadata": {
        "id": "cfrxwJr-_WuC"
      }
    },
    {
      "cell_type": "code",
      "source": [
        "X, y = energyflow.qg_jets.load(num_data=100000, pad=True, ncol=4, generator='pythia', with_bc=False, cache_dir='~/.energyflow')\n",
        "y=tf.keras.utils.to_categorical(y)"
      ],
      "metadata": {
        "colab": {
          "base_uri": "https://localhost:8080/"
        },
        "id": "t-tmVKJ8_Ikr",
        "outputId": "800c7c0b-9e8f-476f-e418-795883f2ba3f"
      },
      "execution_count": null,
      "outputs": [
        {
          "output_type": "stream",
          "name": "stdout",
          "text": [
            "Downloading QG_jets.npz from https://www.dropbox.com/s/fclsl7pukcpobsb/QG_jets.npz?dl=1 to /root/.energyflow/datasets\n",
            "URL fetch failure on https://www.dropbox.com/s/fclsl7pukcpobsb/QG_jets.npz?dl=1: None -- Not Found\n",
            "Failed to download QG_jets.npz from source 'dropbox', trying next source...\n",
            "Downloading QG_jets.npz from https://zenodo.org/record/3164691/files/QG_jets.npz?download=1 to /root/.energyflow/datasets\n"
          ]
        }
      ]
    },
    {
      "cell_type": "code",
      "source": [
        "train_ratio = 0.75\n",
        "validation_ratio = 0.15\n",
        "test_ratio = 0.10\n",
        "\n",
        "# train is now 75% of the entire data set\n",
        "x_train, x_test, y_train, y_test = train_test_split(X, y, test_size=1-train_ratio)\n",
        "\n",
        "# test is now 10% of the initial data set\n",
        "# validation is now 15% of the initial data set\n",
        "x_val, x_test, y_val, y_test = train_test_split(x_test, y_test, test_size=test_ratio/(test_ratio + validation_ratio))\n",
        "\n",
        "num_particles = x_train.shape[1]\n",
        "\n",
        "print(x_train.shape, x_val.shape, x_test.shape)"
      ],
      "metadata": {
        "colab": {
          "base_uri": "https://localhost:8080/"
        },
        "id": "MZ6AyYV__hGs",
        "outputId": "3df7812f-b51c-4108-dbfd-2ee798e4d7ed"
      },
      "execution_count": null,
      "outputs": [
        {
          "output_type": "stream",
          "name": "stdout",
          "text": [
            "(75000, 139, 4) (15000, 139, 4) (10000, 139, 4)\n"
          ]
        }
      ]
    },
    {
      "cell_type": "code",
      "source": [
        "# masking train data\n",
        "# find the maximum length vector in for each sample in 10000 samples with maximum number of non-zero values\n",
        "mask_train = np.sum(x_train, axis=2)\n",
        "\n",
        "# make the array binary\n",
        "mask_train = np.array(mask_train != 0, np.float32)\n",
        "\n",
        "# reshape mask for a third axis\n",
        "mask_train = mask_train.reshape(x_train.shape[0], x_train.shape[1], 1)\n",
        "\n",
        "print(mask_train.shape)"
      ],
      "metadata": {
        "colab": {
          "base_uri": "https://localhost:8080/"
        },
        "id": "3ItDd33P_hJq",
        "outputId": "471fb4a8-542b-4168-ba9f-547bb5f1c6d2"
      },
      "execution_count": null,
      "outputs": [
        {
          "output_type": "stream",
          "name": "stdout",
          "text": [
            "(75000, 139, 1)\n"
          ]
        }
      ]
    },
    {
      "cell_type": "code",
      "source": [
        "# masking test data\n",
        "mask_test = np.sum(x_test, axis=2)\n",
        "mask_test = np.array(mask_test != 0,np.float32)\n",
        "mask_test = mask_test.reshape(x_test.shape[0], x_test.shape[1], 1)\n",
        "\n",
        "# masking validation data\n",
        "mask_val = np.sum(x_val, axis=2)\n",
        "mask_val = np.array(mask_val !=0, np.float32)\n",
        "mask_val = mask_val.reshape(x_val.shape[0], x_val.shape[1],1)\n",
        "\n",
        "print(mask_test.shape, mask_val.shape)"
      ],
      "metadata": {
        "colab": {
          "base_uri": "https://localhost:8080/"
        },
        "id": "Ij5wAFEF_hMf",
        "outputId": "34e5ee29-b393-4ffb-fa82-e5a8578a22d2"
      },
      "execution_count": null,
      "outputs": [
        {
          "output_type": "stream",
          "name": "stdout",
          "text": [
            "(10000, 139, 1) (15000, 139, 1)\n"
          ]
        }
      ]
    },
    {
      "cell_type": "code",
      "source": [
        "train_dataset = {\n",
        "    # the co-ordinates of particles in (rapidity, azimuthal angle) space\n",
        "    'points' : x_train[:,:,1:3],\n",
        "    # the features of each particle are its pt, rapidity, azimuthal angle\n",
        "    'features' : x_train,\n",
        "    # mask\n",
        "    'mask': mask_train\n",
        "    }\n",
        "\n",
        "test_dataset = {\n",
        "    'points': x_test[:, :, 1:3],\n",
        "    'features': x_test,\n",
        "    'mask': mask_test\n",
        "}\n",
        "\n",
        "val_dataset = {\n",
        "    'points': x_val[:, :, 1:3],\n",
        "    'features': x_val,\n",
        "    'mask': mask_val\n",
        "}"
      ],
      "metadata": {
        "id": "9NkDbjGP_m1B"
      },
      "execution_count": null,
      "outputs": []
    },
    {
      "cell_type": "code",
      "source": [
        "shapes = {\n",
        "    'points': x_train[:, :, 1:3].shape[1:],\n",
        "    'features': x_train.shape[1:],\n",
        "    'mask': mask_train.shape[1:]\n",
        "}\n",
        "shapes"
      ],
      "metadata": {
        "colab": {
          "base_uri": "https://localhost:8080/"
        },
        "id": "kFbXXTQc_m3-",
        "outputId": "5c587168-9738-4f34-d78b-26e016e607e8"
      },
      "execution_count": null,
      "outputs": [
        {
          "output_type": "execute_result",
          "data": {
            "text/plain": [
              "{'points': (139, 2), 'features': (139, 4), 'mask': (139, 1)}"
            ]
          },
          "metadata": {},
          "execution_count": 9
        }
      ]
    },
    {
      "cell_type": "code",
      "source": [
        "def edge_conv(points, features, num_points, K, channels, with_bn=True, activation='relu', pooling='average', name='edgeconv'):\n",
        "    '''\n",
        "    Inputs:\n",
        "        points: (N, P, C_p)\n",
        "        features: (N, P, C_0)\n",
        "    Outputs:\n",
        "        transformed points: (N, P, C_out), C_out = channels[-1]\n",
        "    '''\n",
        "\n",
        "    with tf.name_scope('edgeconv'):\n",
        "\n",
        "        # distance\n",
        "        D = batch_distance_matrix_general(points, points)  # (N, P, P)\n",
        "        _, indices = tf.nn.top_k(-D, k=K + 1)  # (N, P, K+1)\n",
        "        indices = indices[:, :, 1:]  # (N, P, K)\n",
        "\n",
        "        fts = features\n",
        "        knn_fts = knn(indices, fts)  # (N, P, K, C)\n",
        "        knn_fts_center = tf.tile(tf.expand_dims(fts, axis=2), (1, 1, K, 1))  # (N, P, K, C)\n",
        "        knn_fts = tf.concat([knn_fts_center, tf.subtract(knn_fts, knn_fts_center)], axis=-1)  # (N, P, K, 2*C)\n",
        "\n",
        "        x = knn_fts\n",
        "        for idx, channel in enumerate(channels):\n",
        "            x = keras.layers.Conv2D(channel, kernel_size=(1, 1), strides=1, data_format='channels_last',\n",
        "                                    use_bias=False if with_bn else True, kernel_initializer='glorot_normal', name='%s_conv%d' % (name, idx))(x)\n",
        "            if with_bn:\n",
        "                x = keras.layers.BatchNormalization(name='%s_bn%d' % (name, idx))(x)\n",
        "            if activation:\n",
        "                x = keras.layers.Activation(activation, name='%s_act%d' % (name, idx))(x)\n",
        "\n",
        "        if pooling == 'max':\n",
        "            fts = tf.reduce_max(x, axis=2)  # (N, P, C')\n",
        "        else:\n",
        "            fts = tf.reduce_mean(x, axis=2)  # (N, P, C')\n",
        "\n",
        "        # shortcut\n",
        "        sc = keras.layers.Conv2D(channels[-1], kernel_size=(1, 1), strides=1, data_format='channels_last',\n",
        "                                 use_bias=False if with_bn else True, kernel_initializer='glorot_normal', name='%s_sc_conv' % name)(tf.expand_dims(features, axis=2))\n",
        "        if with_bn:\n",
        "            sc = keras.layers.BatchNormalization(name='%s_sc_bn' % name)(sc)\n",
        "        sc = tf.squeeze(sc, axis=2)\n",
        "\n",
        "        if activation:\n",
        "            return keras.layers.Activation(activation, name='%s_sc_act' % name)(sc + fts)  # (N, P, C')\n",
        "        else:\n",
        "            return sc + fts\n",
        "\n",
        "\n",
        "def _particle_net_base(points, features=None, mask=None, setting=None, name='particle_net'):\n",
        "    '''\n",
        "    points : (N, P, C_coord)\n",
        "    features:  (N, P, C_features), optional\n",
        "    mask: (N, P, 1), optinal\n",
        "    '''\n",
        "    with tf.name_scope(name):\n",
        "        if features is None:\n",
        "            features = points\n",
        "\n",
        "        if mask is not None:\n",
        "            mask = tf.cast(tf.not_equal(mask, 0), dtype='float32')  # 1 if valid\n",
        "            coord_shift = tf.multiply(999., tf.cast(tf.equal(mask, 0), dtype='float32'))  # make non-valid positions to 99\n",
        "\n",
        "        fts = tf.squeeze(keras.layers.BatchNormalization(name='%s_fts_bn' % name)(tf.expand_dims(features, axis=2)), axis=2)\n",
        "        for layer_idx, layer_param in enumerate(setting.conv_params):\n",
        "            K, channels = layer_param\n",
        "            pts = tf.add(coord_shift, points) if layer_idx == 0 else tf.add(coord_shift, fts)\n",
        "            fts = edge_conv(pts, fts, setting.num_points, K, channels, with_bn=True, activation='relu',\n",
        "                            pooling=setting.conv_pooling, name='%s_%s%d' % (name, 'EdgeConv', layer_idx))\n",
        "\n",
        "        if mask is not None:\n",
        "            fts = tf.multiply(fts, mask)\n",
        "\n",
        "        pool = tf.reduce_mean(fts, axis=1)  # (N, C)\n",
        "\n",
        "        if setting.fc_params is not None:\n",
        "            x = pool\n",
        "            for layer_idx, layer_param in enumerate(setting.fc_params):\n",
        "                units, drop_rate = layer_param\n",
        "                x = keras.layers.Dense(units, activation='relu')(x)\n",
        "                if drop_rate is not None and drop_rate > 0:\n",
        "                    x = keras.layers.Dropout(drop_rate)(x)\n",
        "            out = keras.layers.Dense(setting.num_class, activation='softmax')(x)\n",
        "            return out  # (N, num_classes)\n",
        "        else:\n",
        "            return\n",
        "class _DotDict:\n",
        "    pass\n",
        "\n",
        "def get_particle_net_lite(num_classes, input_shapes):\n",
        "\n",
        "    setting = _DotDict()\n",
        "    setting.num_class = num_classes\n",
        "    # conv_params: list of tuple in the format (K, (C1, C2, C3))\n",
        "    setting.conv_params = [\n",
        "        (7, (32, 32, 32)),\n",
        "        (7, (64, 64, 64)),\n",
        "        ]\n",
        "    # conv_pooling: 'average' or 'max'\n",
        "    setting.conv_pooling = 'average'\n",
        "    # fc_params: list of tuples in the format (C, drop_rate)\n",
        "    setting.fc_params = [(128, 0.1)]\n",
        "    setting.num_points = input_shapes['points'][0]\n",
        "\n",
        "    points = keras.Input(name='points', shape=input_shapes['points'])\n",
        "    features = keras.Input(name='features', shape=input_shapes['features']) if 'features' in input_shapes else None\n",
        "    mask = keras.Input(name='mask', shape=input_shapes['mask']) if 'mask' in input_shapes else None\n",
        "    outputs = _particle_net_base(points, features, mask, setting, name='ParticleNet')\n",
        "\n",
        "    return keras.Model(inputs=[points, features, mask], outputs=outputs, name='ParticleNet')"
      ],
      "metadata": {
        "id": "hBRZGWU3_m6r"
      },
      "execution_count": null,
      "outputs": []
    },
    {
      "cell_type": "markdown",
      "source": [
        "### Experiment"
      ],
      "metadata": {
        "id": "hLwVAR7K_-IQ"
      }
    },
    {
      "cell_type": "code",
      "source": [
        "# particle net lite\n",
        "num_classes = 2\n",
        "model = get_particle_net_lite(num_classes, shapes)"
      ],
      "metadata": {
        "id": "9K6Z33T7__5H"
      },
      "execution_count": null,
      "outputs": []
    },
    {
      "cell_type": "code",
      "source": [
        "# Training parameters\n",
        "batch_size = 512\n",
        "epochs = 15\n",
        "\n",
        "\n",
        "def lr_schedule(epoch):\n",
        "    lr = 1e-3\n",
        "    if epoch > 5:\n",
        "        lr *= 0.1\n",
        "    elif epoch > 10:\n",
        "        lr *= 0.01\n",
        "    return lr"
      ],
      "metadata": {
        "id": "0HEY_WTMAAel"
      },
      "execution_count": null,
      "outputs": []
    },
    {
      "cell_type": "code",
      "source": [
        "model.compile(loss='categorical_crossentropy',\n",
        "              optimizer=keras.optimizers.Adam(learning_rate=lr_schedule(0)),\n",
        "              metrics=['accuracy'])\n"
      ],
      "metadata": {
        "id": "WBcuYr3GAAiP"
      },
      "execution_count": null,
      "outputs": []
    },
    {
      "cell_type": "code",
      "source": [
        "model.summary()"
      ],
      "metadata": {
        "id": "YVg73UqEHaZS"
      },
      "execution_count": null,
      "outputs": []
    },
    {
      "cell_type": "code",
      "source": [
        "early_stop = tf.keras.callbacks.EarlyStopping(monitor='val_loss', patience=3)\n",
        "lr_scheduler = keras.callbacks.LearningRateScheduler(lr_schedule)\n",
        "progress_bar = keras.callbacks.ProgbarLogger()\n",
        "\n",
        "callbacks = [lr_scheduler, progress_bar, early_stop]\n",
        "\n",
        "history = model.fit(train_dataset, y_train,\n",
        "                    batch_size=batch_size,\n",
        "                    epochs=epochs,\n",
        "                    validation_data=(val_dataset, y_val),\n",
        "                    shuffle=True,\n",
        "                    callbacks=callbacks)"
      ],
      "metadata": {
        "id": "RCAsaNETAAld"
      },
      "execution_count": null,
      "outputs": []
    },
    {
      "cell_type": "code",
      "source": [
        "y_val_cat_prob = model.predict_on_batch( test_dataset )"
      ],
      "metadata": {
        "id": "13YEkk0DATrK"
      },
      "execution_count": null,
      "outputs": []
    },
    {
      "cell_type": "code",
      "source": [
        "fpr , tpr , thresholds = roc_curve(y_test.argmax(axis=1), y_val_cat_prob.argmax(axis=1) )\n",
        "\n",
        "plt.plot(fpr,tpr)\n",
        "plt.axis([0,1,0,1])\n",
        "plt.xlabel('False Positive Rate')\n",
        "plt.ylabel('True Positive Rate')\n",
        "plt.show()"
      ],
      "metadata": {
        "colab": {
          "base_uri": "https://localhost:8080/",
          "height": 455
        },
        "id": "XzKBfodaATud",
        "outputId": "a27341a0-9d4c-4670-d970-6eec51738f36"
      },
      "execution_count": null,
      "outputs": [
        {
          "output_type": "display_data",
          "data": {
            "text/plain": [
              "<Figure size 640x480 with 1 Axes>"
            ],
            "image/png": "[encoded data removed]"
          },
          "metadata": {}
        }
      ]
    },
    {
      "cell_type": "code",
      "source": [
        "auc_score = roc_auc_score(y_test.argmax(axis=1), y_val_cat_prob.argmax(axis=1) )\n",
        "auc_score"
      ],
      "metadata": {
        "colab": {
          "base_uri": "https://localhost:8080/"
        },
        "id": "fMUOSn7VATyu",
        "outputId": "6d217659-3410-4f1f-d542-2d950c246f56"
      },
      "execution_count": null,
      "outputs": [
        {
          "output_type": "execute_result",
          "data": {
            "text/plain": [
              "0.8071805148882383"
            ]
          },
          "metadata": {},
          "execution_count": 17
        }
      ]
    },
    {
      "cell_type": "markdown",
      "source": [
        "# 2. EdgeConv"
      ],
      "metadata": {
        "id": "DHDV-SkyAf6e"
      }
    },
    {
      "cell_type": "code",
      "source": [
        "X, y = energyflow.qg_jets.load(num_data=100000, pad=True, ncol=4, generator='pythia',\n",
        "                        with_bc=False, cache_dir='~/.energyflow')"
      ],
      "metadata": {
        "id": "Viw4Yc9KAZvC"
      },
      "execution_count": null,
      "outputs": []
    },
    {
      "cell_type": "code",
      "source": [
        "train_ratio = 0.75\n",
        "validation_ratio = 0.15\n",
        "test_ratio = 0.10\n",
        "\n",
        "\n",
        "# train is now 75% of the entire data set\n",
        "X_train, X_test, y_train, y_test = train_test_split(X, y, test_size=1 - train_ratio, shuffle=True)\n",
        "\n",
        "# test is now 10% of the initial data set\n",
        "# validation is now 15% of the initial data set\n",
        "X_val, X_test, y_val, y_test = train_test_split(X_test, y_test, test_size=test_ratio/(test_ratio + validation_ratio))\n",
        "\n",
        "\n",
        "print(X_train.shape, X_test.shape, X_val.shape)\n",
        "print(y_train.shape,\"\\t\", y_test.shape, \"\\t\", y_val.shape)"
      ],
      "metadata": {
        "colab": {
          "base_uri": "https://localhost:8080/"
        },
        "id": "Atz7B36OAZx9",
        "outputId": "4f9065d7-3810-43ac-c5c4-028a940d9351"
      },
      "execution_count": null,
      "outputs": [
        {
          "output_type": "stream",
          "name": "stdout",
          "text": [
            "(75000, 139, 4) (10000, 139, 4) (15000, 139, 4)\n",
            "(75000,) \t (10000,) \t (15000,)\n"
          ]
        }
      ]
    },
    {
      "cell_type": "code",
      "source": [
        "from tensorflow.keras import layers as lay\n",
        "\n",
        "class SplitLayer(lay.Layer):\n",
        "\n",
        "    def __init__(self, n_splits=12, split_axis=-1, **kwargs):\n",
        "        self.n_splits = n_splits\n",
        "        self.split_axis = split_axis\n",
        "        super(SplitLayer, self).__init__(**kwargs)\n",
        "\n",
        "    def get_config(self):\n",
        "        config = {'n_splits': self.n_splits,\n",
        "                  'split_axis': self.split_axis}\n",
        "        base_config = super(SplitLayer, self).get_config()\n",
        "        return dict(list(base_config.items()) + list(config.items()))\n",
        "\n",
        "    def call(self, x):\n",
        "        ''' return array of splitted tensors '''\n",
        "        sub_tensors = tf.split(x, self.n_splits, axis=self.split_axis)\n",
        "        return sub_tensors\n",
        "\n",
        "    def compute_output_shape(self, input_shape):\n",
        "        sub_tensor_shape = list(input_shape)\n",
        "        num_channels = sub_tensor_shape[self.split_axis]\n",
        "        sub_tensor_shape[self.split_axis] = int(num_channels / self.n_splits)\n",
        "        sub_tensor_shape = tuple(sub_tensor_shape)\n",
        "        list_of_output_shape = [sub_tensor_shape] * self.n_splits\n",
        "        return list_of_output_shape\n",
        "\n",
        "    def compute_mask(self, inputs, mask=None):\n",
        "        return self.n_splits * [None]\n",
        "\n",
        "def f(data):\n",
        "    d1, d2 = data\n",
        "    dif = lay.Subtract()([d1, d2])\n",
        "    x = lay.Concatenate(axis=-1)([d1, dif])\n",
        "    x = lay.Dense(64)(x)\n",
        "    x = lay.Dense(32)(x)\n",
        "    return x\n",
        "\n",
        "class EdgeConv(lay.Layer):\n",
        "    '''\n",
        "    # Input shape\n",
        "        List of two tensors [points, features] with shape:\n",
        "        `[(batch, P, C_p), (batch, P, C_f)]`.\n",
        "        or tensor with shape:\n",
        "        `(batch, P, C)`\n",
        "        if points (coordinates) and features are supposed to be the same.\n",
        "    # Output shape\n",
        "        Tensor with shape:\n",
        "        `(batch, P, C_h)`\n",
        "        with C_h being the output dimension of the h-function.\n",
        "    '''\n",
        "\n",
        "    def __init__(self, kernel_func, next_neighbors, agg_func=keras.backend.mean, **kwargs):\n",
        "        self.kernel_func = kernel_func\n",
        "        self.next_neighbors = next_neighbors\n",
        "        self.agg_func = agg_func\n",
        "        if type(agg_func) == str:\n",
        "            raise ValueError(\"No such agg_func '%s'. When loading the model specify the agg_func '%s' via custom_objects\" % (agg_func, agg_func))\n",
        "        super(EdgeConv, self).__init__(**kwargs)\n",
        "\n",
        "    def get_config(self):\n",
        "        config = {'next_neighbors': self.next_neighbors,\n",
        "                  'kernel_func': self.kernel_func,\n",
        "                  'agg_func': self.agg_func}\n",
        "        base_config = super(EdgeConv, self).get_config()\n",
        "        return dict(list(base_config.items()) + list(config.items()))\n",
        "\n",
        "    def build(self, input_shape):\n",
        "        # Create a trainable weight variable for this layer.\n",
        "        try:\n",
        "            p_shape, f_shape = input_shape\n",
        "        except ValueError:\n",
        "            f_shape = input_shape\n",
        "\n",
        "        if type(self.kernel_func) != keras.models.Model:  # for not wrapping model around model when loading model\n",
        "            x = lay.Input((f_shape.as_list()[-1] * 2,))\n",
        "            a = lay.Reshape((2, f_shape.as_list()[-1]))(x)\n",
        "            x1, x2 = SplitLayer(n_splits=2, split_axis=-2)(a)  # (2, C)\n",
        "            x1 = lay.Reshape((f_shape.as_list()[-1],))(x1)\n",
        "            x2 = lay.Reshape((f_shape.as_list()[-1],))(x2)\n",
        "            y = self.kernel_func([x1, x2])\n",
        "            self.kernel_func = keras.models.Model(x, y)\n",
        "\n",
        "        super(EdgeConv, self).build(input_shape)  # Be sure to call this at the end\n",
        "\n",
        "    def call(self, x):\n",
        "        try:\n",
        "            points, features = x\n",
        "        except TypeError:\n",
        "            points = features = x\n",
        "\n",
        "        # distance\n",
        "        D = batch_distance_matrix_general(points, points)  # (N, P, P)\n",
        "        _, indices = tf.nn.top_k(-D, k=self.next_neighbors + 1)  # (N, P, K+1)\n",
        "        indices = indices[:, :, 1:]  # (N, P, K) remove self connection\n",
        "        knn_fts = knn(indices, features)  # (N, P, K, C)\n",
        "        knn_fts_center = tf.tile(tf.expand_dims(features, axis=2), (1, 1, self.next_neighbors, 1))  # (N, P, K, C)\n",
        "        knn_fts = tf.concat([knn_fts_center, knn_fts], axis=-1)  # (N, P, K, 2*C)\n",
        "        res = lay.TimeDistributed(lay.TimeDistributed(self.kernel_func))(knn_fts)  # (N, P, K, C')\n",
        "        # aggregation\n",
        "        agg = self.agg_func(res, axis=2)  # (N, P, C')\n",
        "        return agg\n",
        "\n",
        "    def compute_output_shape(self, input_shape):\n",
        "        self.output_shape = self.kernel_func.get_output_shape_at(-1)\n",
        "        return self.output_shape"
      ],
      "metadata": {
        "id": "Btp91rKvAj66"
      },
      "execution_count": null,
      "outputs": []
    },
    {
      "cell_type": "code",
      "source": [
        "points = lay.Input((X_train.shape[1],2))\n",
        "feats = lay.Input((X_train.shape[1],2))\n",
        "a = EdgeConv(f, next_neighbors=3)([points, feats])\n",
        "y = EdgeConv(f, next_neighbors=3)(a)\n",
        "oute = EdgeConv(f, next_neighbors=3)(y)\n",
        "pool = lay.GlobalAveragePooling1D()(oute)\n",
        "x = lay.Dense(64)(pool)\n",
        "x = lay.Dense(32)(pool)\n",
        "out = lay.Dense(1, activation=\"sigmoid\")(x)\n",
        "\n",
        "model = keras.models.Model([points, feats], out)\n",
        "model.summary()"
      ],
      "metadata": {
        "colab": {
          "base_uri": "https://localhost:8080/"
        },
        "id": "aQ_lK9uUApaz",
        "outputId": "2b215934-72b6-4dc6-921b-7db34b10bde9"
      },
      "execution_count": null,
      "outputs": [
        {
          "output_type": "stream",
          "name": "stdout",
          "text": [
            "Model: \"model\"\n",
            "__________________________________________________________________________________________________\n",
            " Layer (type)                Output Shape                 Param #   Connected to                  \n",
            "==================================================================================================\n",
            " input_1 (InputLayer)        [(None, 139, 2)]             0         []                            \n",
            "                                                                                                  \n",
            " input_2 (InputLayer)        [(None, 139, 2)]             0         []                            \n",
            "                                                                                                  \n",
            " edge_conv (EdgeConv)        (None, 139, 32)              2400      ['input_1[0][0]',             \n",
            "                                                                     'input_2[0][0]']             \n",
            "                                                                                                  \n",
            " edge_conv_1 (EdgeConv)      (None, 139, 32)              6240      ['edge_conv[0][0]']           \n",
            "                                                                                                  \n",
            " edge_conv_2 (EdgeConv)      (None, 139, 32)              6240      ['edge_conv_1[0][0]']         \n",
            "                                                                                                  \n",
            " global_average_pooling1d (  (None, 32)                   0         ['edge_conv_2[0][0]']         \n",
            " GlobalAveragePooling1D)                                                                          \n",
            "                                                                                                  \n",
            " dense_3 (Dense)             (None, 32)                   1056      ['global_average_pooling1d[0][\n",
            "                                                                    0]']                          \n",
            "                                                                                                  \n",
            " dense_4 (Dense)             (None, 1)                    33        ['dense_3[0][0]']             \n",
            "                                                                                                  \n",
            "==================================================================================================\n",
            "Total params: 15969 (62.38 KB)\n",
            "Trainable params: 15969 (62.38 KB)\n",
            "Non-trainable params: 0 (0.00 Byte)\n",
            "__________________________________________________________________________________________________\n"
          ]
        }
      ]
    },
    {
      "cell_type": "code",
      "source": [
        "model.compile(loss=keras.losses.BinaryCrossentropy(),\n",
        "              optimizer=keras.optimizers.Adam(learning_rate=0.005),\n",
        "              metrics=[keras.metrics.BinaryAccuracy()])\n",
        "\n",
        "early_stopping = tf.keras.callbacks.EarlyStopping(monitor=\"val_loss\", patience=3)"
      ],
      "metadata": {
        "id": "c20dX6AAApjN"
      },
      "execution_count": null,
      "outputs": []
    },
    {
      "cell_type": "code",
      "source": [
        "epochs = 5\n",
        "batch_size = 1024\n",
        "\n",
        "hist = model.fit([X_train[:,:,1:3], X_train[:,:,[0,3]]], y_train, batch_size=batch_size, epochs=epochs, validation_data=([X_val[:,:,1:3], X_val[:,:,[0,3]]], y_val), callbacks=[early_stopping])\n"
      ],
      "metadata": {
        "colab": {
          "base_uri": "https://localhost:8080/"
        },
        "id": "b5vS6w3xAuoj",
        "outputId": "46faa769-1db2-41b9-ca1c-a36c3c556465"
      },
      "execution_count": null,
      "outputs": [
        {
          "output_type": "stream",
          "name": "stdout",
          "text": [
            "Epoch 1/5\n",
            "74/74 [==============================] - 308s 4s/step - loss: 0.6021 - binary_accuracy: 0.6749 - val_loss: 0.5849 - val_binary_accuracy: 0.6929\n",
            "Epoch 2/5\n",
            "74/74 [==============================] - 327s 4s/step - loss: 0.5803 - binary_accuracy: 0.6982 - val_loss: 0.5894 - val_binary_accuracy: 0.6891\n",
            "Epoch 3/5\n",
            "74/74 [==============================] - 314s 4s/step - loss: 0.5858 - binary_accuracy: 0.6926 - val_loss: 0.5793 - val_binary_accuracy: 0.6956\n",
            "Epoch 4/5\n",
            "74/74 [==============================] - 315s 4s/step - loss: 0.5845 - binary_accuracy: 0.6954 - val_loss: 0.5786 - val_binary_accuracy: 0.6967\n",
            "Epoch 5/5\n",
            "74/74 [==============================] - 333s 5s/step - loss: 0.5854 - binary_accuracy: 0.6936 - val_loss: 0.5792 - val_binary_accuracy: 0.6978\n"
          ]
        }
      ]
    },
    {
      "cell_type": "code",
      "source": [
        "y_val_cat_prob = model.predict_on_batch([X_test[:,:,1:3], X_test[:,:,[0,3]]])"
      ],
      "metadata": {
        "id": "s7mz9eleAutf"
      },
      "execution_count": null,
      "outputs": []
    },
    {
      "cell_type": "code",
      "source": [
        "fpr , tpr , thresholds = roc_curve (y_test, y_val_cat_prob)\n",
        "\n",
        "plt.plot(fpr,tpr)\n",
        "plt.axis([0,1,0,1])\n",
        "plt.xlabel('False Positive Rate')\n",
        "plt.ylabel('True Positive Rate')\n",
        "plt.show()"
      ],
      "metadata": {
        "colab": {
          "base_uri": "https://localhost:8080/",
          "height": 455
        },
        "id": "vvzd_qbnAuxA",
        "outputId": "90057af0-b99e-4e08-ca53-2bf4dc75165a"
      },
      "execution_count": null,
      "outputs": [
        {
          "output_type": "display_data",
          "data": {
            "text/plain": [
              "<Figure size 640x480 with 1 Axes>"
            ],
            "image/png": "[encoded data removed]"
          },
          "metadata": {}
        }
      ]
    },
    {
      "cell_type": "code",
      "source": [
        "auc_score=roc_auc_score(y_test,y_val_cat_prob)\n",
        "auc_score"
      ],
      "metadata": {
        "colab": {
          "base_uri": "https://localhost:8080/"
        },
        "id": "PrgEkjhaA1g0",
        "outputId": "a8051577-b417-49dd-f410-a61aafe669be"
      },
      "execution_count": null,
      "outputs": [
        {
          "output_type": "execute_result",
          "data": {
            "text/plain": [
              "0.7610772195280161"
            ]
          },
          "metadata": {},
          "execution_count": 28
        }
      ]
    }
  ]
}