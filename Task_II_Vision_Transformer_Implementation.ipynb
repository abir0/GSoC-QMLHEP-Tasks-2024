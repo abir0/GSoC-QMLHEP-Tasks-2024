{
  "metadata": {
    "kernelspec": {
      "language": "python",
      "display_name": "Python 3",
      "name": "python3"
    },
    "language_info": {
      "name": "python",
      "version": "3.7.12",
      "mimetype": "text/x-python",
      "codemirror_mode": {
        "name": "ipython",
        "version": 3
      },
      "pygments_lexer": "ipython3",
      "nbconvert_exporter": "python",
      "file_extension": ".py"
    },
    "kaggle": {
      "accelerator": "nvidiaTeslaT4",
      "dataSources": [
        {
          "sourceId": 39272,
          "databundleVersionId": 4629629,
          "sourceType": "competition"
        },
        {
          "sourceId": 4619805,
          "sourceType": "datasetVersion",
          "datasetId": 2688675
        },
        {
          "sourceId": 4824226,
          "sourceType": "datasetVersion",
          "datasetId": 2794616
        }
      ],
      "dockerImageVersionId": 30356,
      "isInternetEnabled": true,
      "language": "python",
      "sourceType": "notebook",
      "isGpuEnabled": true
    },
    "colab": {
      "provenance": []
    }
  },
  "nbformat_minor": 0,
  "nbformat": 4,
  "cells": [
    {
      "cell_type": "markdown",
      "source": [
        "# Overview"
      ],
      "metadata": {
        "id": "b8XjyST7fHwv"
      }
    },
    {
      "cell_type": "markdown",
      "source": [
        "Convolutional Neural Networks (CNNs) have dominated the field of computer vision for years. However, recent advancements in transformer architectures, originated from attention is all you need paper, have shown great promise in image classification tasks despite known for their success in Natural Language Processing (NLP). Vision Transformer (ViT) leverages the power of transformers for computer vision tasks.\n",
        "\n",
        "This notebook delves into the world of ViT by implementing one from scratch using PyTorch. Here, we build a ViT model for image classification and train it on a subset of the RSNA breast cancer detection dataset, aiming to showcase its capabilities in complex real-world applications."
      ],
      "metadata": {
        "id": "3YqAt1uefHww"
      }
    },
    {
      "cell_type": "markdown",
      "source": [
        "# 1. About the Architecture"
      ],
      "metadata": {
        "id": "J3bMpuJEfHww"
      }
    },
    {
      "cell_type": "markdown",
      "source": [
        "Transformers are a game-changing architecture in the world of neural networks. They excel at modeling data where understanding long-range relationships is crucial. This overview dives into the key components that make transformers so effective:\n",
        "\n",
        "- **Multi-headed Attention:** This mechanism allows the network to focus on specific, relevant parts of the input data, even if they're far apart in the sequence.\n",
        "- **Residual Connections:** These connections help the network learn from previous layers, enabling better training and deeper architectures.\n",
        "- **Layer Normalization:** This technique ensures stable training by normalizing the activations at each layer of the transformer.\n",
        "- **Feedforward Connections:** These non-linear layers add complexity and allow the network to learn more intricate relationships within the data.\n",
        "- **Positional Embeddings:** When dealing with data that lacks inherent order (like text), these embeddings provide positional information, crucial for the transformer to understand the sequence.\n",
        "\n",
        "By combining these elements, transformers have revolutionized various fields, including natural language processing, computer vision, and beyond.\n",
        "\n",
        "<p align=\"center\">\n",
        "    <img src=\"https://production-media.paperswithcode.com/method_collections/trans.jpeg\" width=\"500\" alt=\"Transformer Architecture\"/>\n",
        "    <br>\n",
        "    Figure: Architecture of the original Transformer .\n",
        "</p>"
      ],
      "metadata": {
        "id": "SlfjLEpdfHww"
      }
    },
    {
      "cell_type": "markdown",
      "source": [
        "### **Making Transformers See: Patching Images into Words**\n",
        "\n",
        "Originally used for language, transformers can now be applied to images. We do this by:\n",
        "\n",
        "1. **Splitting the image:** We cut the image into tiny squares, like words in a sentence.\n",
        "2. **Flattening and encoding:** We turn each square into a single unit and add information about its position in the image.\n",
        "3. **Adding a start token:** We include a special token at the beginning, similar to a sentence starter.\n",
        "4. **Feeding into the transformer:** We process this sequence of units using a transformer encoder, which analyzes relationships between them.\n",
        "5. **Classification:** We focus on the special token at the beginning and use it to predict the image content (e.g., what object it is).\n",
        "\n",
        "PyTorch offers `torch.nn.MultiHeadAttention` for implementing attention mechanisms.\n",
        "\n",
        "For a deeper dive, check out [original paper](https://paperswithcode.com/method/vision-transformer) on Vision Transformer.\n",
        "\n",
        "\n",
        "\n",
        "<p align=\"center\">\n",
        "    <img src=\"https://raw.githubusercontent.com/google-research/vision_transformer/main/vit_figure.png\" alt=\"Vision Transformer\"/>\n",
        "    <br>\n",
        "    Figure: Architecture of the Vision Transformer model.\n",
        "</p>"
      ],
      "metadata": {
        "id": "fNBGUMYTfHwx"
      }
    },
    {
      "cell_type": "markdown",
      "source": [
        "# 2. About the Dataset\n",
        "The dataset was contributed by mammography screening programs in Australia and the U.S. It includes detailed labels, with radiologists’ evaluations and follow-up pathology results for suspected malignancies.\n",
        "\n",
        "The dataset is stored in dicom formats. Converting dicom data to png/jpg just by rescaling it will harm the quality of the data. [This notebook](https://www.kaggle.com/code/raddar/convert-dicom-to-np-array-the-correct-way/notebook) is an awesome resource for anyone working with dicom files for X-Ray."
      ],
      "metadata": {
        "id": "G8iWWw5kfHwx"
      }
    },
    {
      "cell_type": "markdown",
      "source": [
        "# 3. Implementation"
      ],
      "metadata": {
        "id": "7WaFyd7CfHwx"
      }
    },
    {
      "cell_type": "markdown",
      "source": [
        "### Setup"
      ],
      "metadata": {
        "id": "ZNr52IuifNkp"
      }
    },
    {
      "cell_type": "code",
      "source": [
        "\n",
        "# IMPORTANT: RUN THIS CELL IN ORDER TO IMPORT YOUR KAGGLE DATA SOURCES\n",
        "# TO THE CORRECT LOCATION (/kaggle/input) IN YOUR NOTEBOOK,\n",
        "# THEN FEEL FREE TO DELETE THIS CELL.\n",
        "# NOTE: THIS NOTEBOOK ENVIRONMENT DIFFERS FROM KAGGLE'S PYTHON\n",
        "# ENVIRONMENT SO THERE MAY BE MISSING LIBRARIES USED BY YOUR\n",
        "# NOTEBOOK.\n",
        "\n",
        "import os\n",
        "import sys\n",
        "from tempfile import NamedTemporaryFile\n",
        "from urllib.request import urlopen\n",
        "from urllib.parse import unquote, urlparse\n",
        "from urllib.error import HTTPError\n",
        "from zipfile import ZipFile\n",
        "import tarfile\n",
        "import shutil\n",
        "\n",
        "CHUNK_SIZE = 40960\n",
        "DATA_SOURCE_MAPPING = 'rsna-breast-cancer-detection:https%3A%2F%2Fstorage.googleapis.com%2Fkaggle-competitions-data%2Fkaggle-v2%2F39272%2F4629629%2Fbundle%2Farchive.zip%3FX-Goog-Algorithm%3DGOOG4-RSA-SHA256%26X-Goog-Credential%3Dgcp-kaggle-com%2540kaggle-161607.iam.gserviceaccount.com%252F20240402%252Fauto%252Fstorage%252Fgoog4_request%26X-Goog-Date%3D20240402T154513Z%26X-Goog-Expires%3D259200%26X-Goog-SignedHeaders%3Dhost%26X-Goog-Signature%3Dd61fea4018b21f40365509f4a4ae2e2d1e45abcbda5eed8368a56174da7c22da392107b5e9463468be29306db22fcad7a93a69da2481ac410a34adec83170a927b5ae9e79a0cdb71c11e32b78ab68eeeeb8742ba5bf9b14ec4d07fc20f1ec1e4fbfadef0f98c2a81f0c7d3567ab827615e6335274c39769a0c35d498e91c05645727bcfe4ff1692b10bd86457be6e2e5ca74ba184f56131e77b43c596112a0c8f260bcbb12789e6950b7ec296b9c667fb350288d226969332f7ca4950b2b400de35f7523cdda1bbdcf88bb7ee346681f190e4e9471af96e8d44fa8ebc26347a630b8260d93045b1ed432ccad70e5b56d74e6b9fddb687d2c403f6221a54a711a,rsna-breast-cancer-512-pngs:https%3A%2F%2Fstorage.googleapis.com%2Fkaggle-data-sets%2F2688675%2F4619805%2Fbundle%2Farchive.zip%3FX-Goog-Algorithm%3DGOOG4-RSA-SHA256%26X-Goog-Credential%3Dgcp-kaggle-com%2540kaggle-161607.iam.gserviceaccount.com%252F20240402%252Fauto%252Fstorage%252Fgoog4_request%26X-Goog-Date%3D20240402T154513Z%26X-Goog-Expires%3D259200%26X-Goog-SignedHeaders%3Dhost%26X-Goog-Signature%3D3ef208eee823bbd936bdcf97c93a4e46aa1eae5aaa96afd0f7bca485f7e4b48ba20b564916f39bec124d91af793b428ca1c13a9300180012aa75ee036e306abac160d8bd6403a876b8debd63a7c03896b8a81f67b65ecf8443dc04d635e8496bf89eb748aa64b41ca2eb0911c86261079112733b989b7f10af9eb63649e8227a11a5a18ce7d8a13139f35645ee850101ccc25be55bf44c240fa6d60d6a311e2855929c3e3e20e9c1f331dfd355898b524e1bf0ec5741290cbed3a9559902a1270141da591a6b5197336a01c2a04bb07dbeab36fded8f6f1286e0742644ad8938cde07f5d5bd8bfa44ebdbbce915fcd252eab509b8873c5a396e3905fc43384ad,rsna-256px-croped:https%3A%2F%2Fstorage.googleapis.com%2Fkaggle-data-sets%2F2794616%2F4824226%2Fbundle%2Farchive.zip%3FX-Goog-Algorithm%3DGOOG4-RSA-SHA256%26X-Goog-Credential%3Dgcp-kaggle-com%2540kaggle-161607.iam.gserviceaccount.com%252F20240402%252Fauto%252Fstorage%252Fgoog4_request%26X-Goog-Date%3D20240402T154513Z%26X-Goog-Expires%3D259200%26X-Goog-SignedHeaders%3Dhost%26X-Goog-Signature%3Da416525733f6d40316ed1287e88c09ee97a2e0a8568fd9a92b60a9ee326502e916013da10b0bb1d1ab9011421dcadf44e508ddd2f0a80f9a92d541d08bd01197bafbffab788651560f990ae4700e0a1976d87429c325bb3be695d21130a653a484c7fe9553d6bba2cdf0b284d9f4c7302c134e2a9bfe54a18047c78d74068ef798a5c873bf80bd7683a2431e8bc2ba76245fb616d496812ee43a3ad12a0f5fdd1b7f8843f18ed31441aeb5792b2f750541bc2e2acfa8add20d6cbb279bc5373a9b470418f68b1a1583c76e5a3591ac7d855974798afcf4e614de547036f3d5cff965bd729675536f75545b18136fe325998d9af4790f8bd544db48a8316e6779'\n",
        "\n",
        "KAGGLE_INPUT_PATH='/kaggle/input'\n",
        "KAGGLE_WORKING_PATH='/kaggle/working'\n",
        "KAGGLE_SYMLINK='kaggle'\n",
        "\n",
        "!umount /kaggle/input/ 2> /dev/null\n",
        "shutil.rmtree('/kaggle/input', ignore_errors=True)\n",
        "os.makedirs(KAGGLE_INPUT_PATH, 0o777, exist_ok=True)\n",
        "os.makedirs(KAGGLE_WORKING_PATH, 0o777, exist_ok=True)\n",
        "\n",
        "try:\n",
        "  os.symlink(KAGGLE_INPUT_PATH, os.path.join(\"..\", 'input'), target_is_directory=True)\n",
        "except FileExistsError:\n",
        "  pass\n",
        "try:\n",
        "  os.symlink(KAGGLE_WORKING_PATH, os.path.join(\"..\", 'working'), target_is_directory=True)\n",
        "except FileExistsError:\n",
        "  pass\n",
        "\n",
        "for data_source_mapping in DATA_SOURCE_MAPPING.split(','):\n",
        "    directory, download_url_encoded = data_source_mapping.split(':')\n",
        "    download_url = unquote(download_url_encoded)\n",
        "    filename = urlparse(download_url).path\n",
        "    destination_path = os.path.join(KAGGLE_INPUT_PATH, directory)\n",
        "    try:\n",
        "        with urlopen(download_url) as fileres, NamedTemporaryFile() as tfile:\n",
        "            total_length = fileres.headers['content-length']\n",
        "            print(f'Downloading {directory}, {total_length} bytes compressed')\n",
        "            dl = 0\n",
        "            data = fileres.read(CHUNK_SIZE)\n",
        "            while len(data) > 0:\n",
        "                dl += len(data)\n",
        "                tfile.write(data)\n",
        "                done = int(50 * dl / int(total_length))\n",
        "                sys.stdout.write(f\"\\r[{'=' * done}{' ' * (50-done)}] {dl} bytes downloaded\")\n",
        "                sys.stdout.flush()\n",
        "                data = fileres.read(CHUNK_SIZE)\n",
        "            if filename.endswith('.zip'):\n",
        "              with ZipFile(tfile) as zfile:\n",
        "                zfile.extractall(destination_path)\n",
        "            else:\n",
        "              with tarfile.open(tfile.name) as tarfile:\n",
        "                tarfile.extractall(destination_path)\n",
        "            print(f'\\nDownloaded and uncompressed: {directory}')\n",
        "    except HTTPError as e:\n",
        "        print(f'Failed to load (likely expired) {download_url} to path {destination_path}')\n",
        "        continue\n",
        "    except OSError as e:\n",
        "        print(f'Failed to load {download_url} to path {destination_path}')\n",
        "        continue\n",
        "\n",
        "print('Data source import complete.')\n"
      ],
      "metadata": {
        "id": "kb59osJGfLPl"
      },
      "execution_count": null,
      "outputs": []
    },
    {
      "cell_type": "markdown",
      "source": [
        "### Imports"
      ],
      "metadata": {
        "id": "KGEf8V4RfRL2"
      }
    },
    {
      "cell_type": "code",
      "source": [
        "import os\n",
        "\n",
        "import cv2\n",
        "import matplotlib.pyplot as plt\n",
        "import numpy as np\n",
        "import pydicom\n",
        "import pandas as pd\n",
        "\n",
        "import torch\n",
        "import torch.nn as nn\n",
        "from torch.optim import Adam\n",
        "from torch.utils.data import DataLoader, Dataset, WeightedRandomSampler\n",
        "from ignite.engine import Events, create_supervised_trainer, create_supervised_evaluator\n",
        "from ignite.metrics import Accuracy, Loss, RunningAverage\n",
        "from ignite.contrib.handlers import ProgressBar\n",
        "from sklearn.model_selection import train_test_split\n",
        "from torchvision import models, transforms"
      ],
      "metadata": {
        "execution": {
          "iopub.status.busy": "2024-04-02T15:15:05.96314Z",
          "iopub.execute_input": "2024-04-02T15:15:05.963564Z",
          "iopub.status.idle": "2024-04-02T15:15:05.970984Z",
          "shell.execute_reply.started": "2024-04-02T15:15:05.963529Z",
          "shell.execute_reply": "2024-04-02T15:15:05.96998Z"
        },
        "trusted": true,
        "id": "OT0X5UpOfHwy"
      },
      "execution_count": null,
      "outputs": []
    },
    {
      "cell_type": "markdown",
      "source": [
        "## 3.1 Utility functions"
      ],
      "metadata": {
        "id": "KzkpCfPTfHwy"
      }
    },
    {
      "cell_type": "code",
      "source": [
        "def read_xray(file_path, img_size=None):\n",
        "    \"\"\"\n",
        "    Read the dicom data and get the image\n",
        "    Args:\n",
        "        file_path: The path of the dicom file\n",
        "        img_size: Size of the output image\n",
        "    \"\"\"\n",
        "\n",
        "    dicom = pydicom.read_file(file_path)\n",
        "    img = dicom.pixel_array\n",
        "\n",
        "    if dicom.PhotometricInterpretation == \"MONOCHROME1\":\n",
        "        img = np.max(img) - img\n",
        "\n",
        "    if img_size:\n",
        "        img = cv2.resize(img, img_size)\n",
        "\n",
        "    # Add channel dim at First\n",
        "    img = img[np.newaxis]\n",
        "\n",
        "    # Converting img to float32\n",
        "    img = img / np.max(img)\n",
        "    img = img.astype(\"float32\")\n",
        "\n",
        "    return img"
      ],
      "metadata": {
        "execution": {
          "iopub.status.busy": "2024-04-02T15:15:05.97655Z",
          "iopub.execute_input": "2024-04-02T15:15:05.976888Z",
          "iopub.status.idle": "2024-04-02T15:15:05.989412Z",
          "shell.execute_reply.started": "2024-04-02T15:15:05.976858Z",
          "shell.execute_reply": "2024-04-02T15:15:05.988554Z"
        },
        "trusted": true,
        "id": "-fD3y2DGfHwy"
      },
      "execution_count": null,
      "outputs": []
    },
    {
      "cell_type": "code",
      "source": [
        "def patchify(batch, patch_size):\n",
        "    \"\"\"\n",
        "    Patchify the batch of images\n",
        "\n",
        "    Shape:\n",
        "        batch: (b, h, w, c)\n",
        "        output: (b, nh, nw, ph, pw, c)\n",
        "    \"\"\"\n",
        "    b, c, h, w = batch.shape\n",
        "    ph, pw = patch_size\n",
        "    nh, nw = h // ph, w // pw\n",
        "\n",
        "    batch_patches = torch.reshape(batch, (b, c, nh, ph, nw, pw))\n",
        "    batch_patches = torch.permute(batch_patches, (0, 1, 2, 4, 3, 5))\n",
        "\n",
        "    return batch_patches"
      ],
      "metadata": {
        "execution": {
          "iopub.status.busy": "2024-04-02T15:15:05.993747Z",
          "iopub.execute_input": "2024-04-02T15:15:05.99436Z",
          "iopub.status.idle": "2024-04-02T15:15:06.002087Z",
          "shell.execute_reply.started": "2024-04-02T15:15:05.994329Z",
          "shell.execute_reply": "2024-04-02T15:15:06.001177Z"
        },
        "trusted": true,
        "id": "DiqS1Fl5fHwy"
      },
      "execution_count": null,
      "outputs": []
    },
    {
      "cell_type": "markdown",
      "source": [
        "We test our `patchify` function on a single image."
      ],
      "metadata": {
        "id": "JeHhLHIFfHwz"
      }
    },
    {
      "cell_type": "code",
      "source": [
        "FILE_PATH = '/kaggle/input/rsna-breast-cancer-detection/train_images/10048/1577142909.dcm'\n",
        "\n",
        "img = read_xray(FILE_PATH, img_size=(512, 512))\n",
        "\n",
        "batch = torch.tensor(img[None])\n",
        "patch_size = (16, 16)\n",
        "batch_patches = patchify(batch, patch_size)\n",
        "\n",
        "patches = batch_patches[0]\n",
        "c, nh, nw, ph, pw = patches.shape\n",
        "\n",
        "plt.figure(figsize=(5, 5))\n",
        "plt.imshow(img[0], cmap=\"gray\")\n",
        "plt.axis(\"off\")\n",
        "\n",
        "plt.figure(figsize=(5, 5))\n",
        "for i in range(nh):\n",
        "    for j in range(nw):\n",
        "        plt.subplot(nh, nw, i * nw + j + 1)\n",
        "        plt.imshow(patches[0, i, j], cmap=\"gray\")\n",
        "        plt.axis(\"off\")"
      ],
      "metadata": {
        "execution": {
          "iopub.status.busy": "2024-04-02T15:15:06.009196Z",
          "iopub.execute_input": "2024-04-02T15:15:06.009521Z",
          "iopub.status.idle": "2024-04-02T15:16:00.286774Z",
          "shell.execute_reply.started": "2024-04-02T15:15:06.009488Z",
          "shell.execute_reply": "2024-04-02T15:16:00.285801Z"
        },
        "trusted": true,
        "id": "20lDlAr3fHwz",
        "outputId": "de4df5eb-0b28-408e-ea44-67a00eb0405e"
      },
      "execution_count": null,
      "outputs": [
        {
          "output_type": "display_data",
          "data": {
            "text/plain": "<Figure size 360x360 with 1 Axes>",
            "image/png": "[encoded data removed]"
          },
          "metadata": {
            "needs_background": "light"
          }
        },
        {
          "output_type": "display_data",
          "data": {
            "text/plain": "<Figure size 360x360 with 1024 Axes>",
            "image/png": "[encoded data removed]"
          },
          "metadata": {
            "needs_background": "light"
          }
        }
      ]
    },
    {
      "cell_type": "code",
      "source": [
        "def get_mlp(in_features, hidden_units, out_features):\n",
        "    \"\"\"\n",
        "    Returns a MLP head\n",
        "    \"\"\"\n",
        "    dims = [in_features] + hidden_units + [out_features]\n",
        "    layers = []\n",
        "    for dim1, dim2 in zip(dims[:-2], dims[1:-1]):\n",
        "        layers.append(nn.Linear(dim1, dim2))\n",
        "        layers.append(nn.ReLU())\n",
        "    layers.append(nn.Linear(dims[-2], dims[-1]))\n",
        "    return nn.Sequential(*layers)"
      ],
      "metadata": {
        "execution": {
          "iopub.status.busy": "2024-04-02T15:16:00.288545Z",
          "iopub.execute_input": "2024-04-02T15:16:00.288871Z",
          "iopub.status.idle": "2024-04-02T15:16:00.297163Z",
          "shell.execute_reply.started": "2024-04-02T15:16:00.28884Z",
          "shell.execute_reply": "2024-04-02T15:16:00.296281Z"
        },
        "trusted": true,
        "id": "f87clygGfHwz"
      },
      "execution_count": null,
      "outputs": []
    },
    {
      "cell_type": "markdown",
      "source": [
        "## 3.2 Image to Sequence Block\n",
        "This Block takes a batch of image as input and returns a batch of sequences. Later on we feed this sequences into the transformer encoder."
      ],
      "metadata": {
        "id": "2cXMk87efHwz"
      }
    },
    {
      "cell_type": "code",
      "source": [
        "class Img2Seq(nn.Module):\n",
        "    \"\"\"\n",
        "    This layers takes a batch of images as input and\n",
        "    returns a batch of sequences\n",
        "\n",
        "    Shape:\n",
        "        input: (b, h, w, c)\n",
        "        output: (b, s, d)\n",
        "    \"\"\"\n",
        "    def __init__(self, img_size, patch_size, n_channels, d_model):\n",
        "        super().__init__()\n",
        "        self.patch_size = patch_size\n",
        "        self.img_size = img_size\n",
        "\n",
        "        nh, nw = img_size[0] // patch_size[0], img_size[1] // patch_size[1]\n",
        "        n_tokens = nh * nw\n",
        "\n",
        "        token_dim = patch_size[0] * patch_size[1] * n_channels\n",
        "        self.linear = nn.Linear(token_dim, d_model)\n",
        "        self.cls_token = nn.Parameter(torch.randn(1, 1, d_model))\n",
        "        self.pos_emb = nn.Parameter(torch.randn(n_tokens, d_model))\n",
        "\n",
        "    def __call__(self, batch):\n",
        "        batch = patchify(batch, self.patch_size)\n",
        "\n",
        "        b, c, nh, nw, ph, pw = batch.shape\n",
        "\n",
        "        # Flattening the patches\n",
        "        batch = torch.permute(batch, [0, 2, 3, 4, 5, 1])\n",
        "        batch = torch.reshape(batch, [b, nh * nw, ph * pw * c])\n",
        "\n",
        "        batch = self.linear(batch)\n",
        "        cls = self.cls_token.expand([b, -1, -1])\n",
        "        emb = batch + self.pos_emb\n",
        "\n",
        "        return torch.cat([cls, emb], axis=1)"
      ],
      "metadata": {
        "execution": {
          "iopub.status.busy": "2024-04-02T15:16:00.29842Z",
          "iopub.execute_input": "2024-04-02T15:16:00.298785Z",
          "iopub.status.idle": "2024-04-02T15:16:00.310367Z",
          "shell.execute_reply.started": "2024-04-02T15:16:00.298723Z",
          "shell.execute_reply": "2024-04-02T15:16:00.309527Z"
        },
        "trusted": true,
        "id": "gMbWnALTfHw0"
      },
      "execution_count": null,
      "outputs": []
    },
    {
      "cell_type": "markdown",
      "source": [
        "## 3.3 Visual Transformer Module\n",
        "\n",
        "This module can be divided into 3 parts:\n",
        "* An image to sequence encoder\n",
        "* Transformer encoder\n",
        "* Multilayer perceptron head classification\n",
        "\n",
        "We use `torch.nn.TransformerEncoder` and `torch.nn.TransformerEncoderLayer` to implement our transformer encoder."
      ],
      "metadata": {
        "id": "dY1kIRdefHw0"
      }
    },
    {
      "cell_type": "code",
      "source": [
        "class ViT(nn.Module):\n",
        "    def __init__(\n",
        "        self,\n",
        "        img_size,\n",
        "        patch_size,\n",
        "        n_channels,\n",
        "        d_model,\n",
        "        nhead,\n",
        "        dim_feedforward,\n",
        "        blocks,\n",
        "        mlp_head_units,\n",
        "        n_classes,\n",
        "    ):\n",
        "        super().__init__()\n",
        "        \"\"\"\n",
        "        Args:\n",
        "            img_size: Size of the image\n",
        "            patch_size: Size of the patch\n",
        "            n_channels: Number of image channels\n",
        "            d_model: The number of features in the transformer encoder\n",
        "            nhead: The number of heads in the multiheadattention models\n",
        "            dim_feedforward: The dimension of the feedforward network model in the encoder\n",
        "            blocks: The number of sub-encoder-layers in the encoder\n",
        "            mlp_head_units: The hidden units of mlp_head\n",
        "            n_classes: The number of output classes\n",
        "        \"\"\"\n",
        "        self.img2seq = Img2Seq(img_size, patch_size, n_channels, d_model)\n",
        "\n",
        "        encoder_layer = nn.TransformerEncoderLayer(\n",
        "            d_model, nhead, dim_feedforward, activation=\"gelu\", batch_first=True\n",
        "        )\n",
        "        self.transformer_encoder = nn.TransformerEncoder(\n",
        "            encoder_layer, blocks\n",
        "        )\n",
        "        self.mlp = get_mlp(d_model, mlp_head_units, n_classes)\n",
        "\n",
        "        self.output = nn.Sigmoid() if n_classes == 1 else nn.Softmax()\n",
        "\n",
        "    def __call__(self, batch):\n",
        "\n",
        "        batch = self.img2seq(batch)\n",
        "        batch = self.transformer_encoder(batch)\n",
        "        batch = batch[:, 0, :]\n",
        "        batch = self.mlp(batch)\n",
        "        output = self.output(batch)\n",
        "        return output"
      ],
      "metadata": {
        "execution": {
          "iopub.status.busy": "2024-04-02T15:16:00.313313Z",
          "iopub.execute_input": "2024-04-02T15:16:00.314288Z",
          "iopub.status.idle": "2024-04-02T15:16:00.32867Z",
          "shell.execute_reply.started": "2024-04-02T15:16:00.314254Z",
          "shell.execute_reply": "2024-04-02T15:16:00.327841Z"
        },
        "trusted": true,
        "id": "NyLCxukEfHw0"
      },
      "execution_count": null,
      "outputs": []
    },
    {
      "cell_type": "markdown",
      "source": [
        "# 4. Training\n",
        "\n",
        "Here, we design a simple training to loop to train `ViT` model on a subset of dataset. We use an already cropped dataset."
      ],
      "metadata": {
        "id": "no0bz6MsfHw0"
      }
    },
    {
      "cell_type": "markdown",
      "source": [
        "## 4.1 Model Hyperparameters"
      ],
      "metadata": {
        "id": "iVU9RejLfHw0"
      }
    },
    {
      "cell_type": "code",
      "source": [
        "img_size = (512, 512)\n",
        "patch_size = (16, 16)\n",
        "n_channels = 1\n",
        "d_model = 1024\n",
        "nhead = 4\n",
        "dim_feedforward = 2048\n",
        "blocks = 8\n",
        "mlp_head_units = [1024, 512]\n",
        "n_classes = 1\n",
        "device = torch.device('cuda') if torch.cuda.is_available() else torch.device('cpu')"
      ],
      "metadata": {
        "execution": {
          "iopub.status.busy": "2024-04-02T15:16:00.329752Z",
          "iopub.execute_input": "2024-04-02T15:16:00.330026Z",
          "iopub.status.idle": "2024-04-02T15:16:00.403432Z",
          "shell.execute_reply.started": "2024-04-02T15:16:00.33Z",
          "shell.execute_reply": "2024-04-02T15:16:00.40237Z"
        },
        "trusted": true,
        "id": "nv7eBZjlfHw0"
      },
      "execution_count": null,
      "outputs": []
    },
    {
      "cell_type": "code",
      "source": [
        "device"
      ],
      "metadata": {
        "execution": {
          "iopub.status.busy": "2024-04-02T15:16:00.404527Z",
          "iopub.execute_input": "2024-04-02T15:16:00.40486Z",
          "iopub.status.idle": "2024-04-02T15:16:00.416418Z",
          "shell.execute_reply.started": "2024-04-02T15:16:00.404817Z",
          "shell.execute_reply": "2024-04-02T15:16:00.415465Z"
        },
        "trusted": true,
        "id": "ae2KsxpBfHw0",
        "outputId": "a1877d6f-f78e-42a1-929c-f2ca1f2f12af"
      },
      "execution_count": null,
      "outputs": [
        {
          "execution_count": 22,
          "output_type": "execute_result",
          "data": {
            "text/plain": "device(type='cuda')"
          },
          "metadata": {}
        }
      ]
    },
    {
      "cell_type": "markdown",
      "source": [
        "## 4.2. Dataset and DataLoader"
      ],
      "metadata": {
        "id": "Xd-LN6JJfHw1"
      }
    },
    {
      "cell_type": "code",
      "source": [
        "class RSNADataset(Dataset):\n",
        "\n",
        "    def __init__(self, df, img_path):\n",
        "        self.df = df\n",
        "        self.img_path = img_path\n",
        "\n",
        "    def __len__(self):\n",
        "        return len(self.df)\n",
        "\n",
        "    def __getitem__(self, idx):\n",
        "        patient_id, image_id, cancer = self.df.iloc[idx][['patient_id', 'image_id', 'cancer']]\n",
        "        file = os.path.join(self.img_path, f'{patient_id}_{image_id}.png')\n",
        "        file = cv2.imread(file, cv2.COLOR_BGR2GRAY)\n",
        "        clahe = cv2.createCLAHE(clipLimit = 15, tileGridSize=[8, 8])\n",
        "        file = clahe.apply(file)\n",
        "        file = file / file.max()\n",
        "        X = torch.tensor(file[np.newaxis].astype('float32')).to(device)\n",
        "        y = torch.tensor([cancer]).float().to(device)\n",
        "        return X, y"
      ],
      "metadata": {
        "execution": {
          "iopub.status.busy": "2024-04-02T15:16:00.417717Z",
          "iopub.execute_input": "2024-04-02T15:16:00.418052Z",
          "iopub.status.idle": "2024-04-02T15:16:00.42857Z",
          "shell.execute_reply.started": "2024-04-02T15:16:00.418023Z",
          "shell.execute_reply": "2024-04-02T15:16:00.427773Z"
        },
        "trusted": true,
        "id": "Dtc-AUabfHw1"
      },
      "execution_count": null,
      "outputs": []
    },
    {
      "cell_type": "code",
      "source": [
        "df = pd.read_csv('/kaggle/input/rsna-breast-cancer-detection/train.csv')\n",
        "counts = df['cancer'].value_counts()\n",
        "df['weights'] = df['cancer'].apply(lambda x: 1/counts[x])\n",
        "\n",
        "train_df, val_df = train_test_split(df, test_size=0.25, stratify=df['cancer'])"
      ],
      "metadata": {
        "execution": {
          "iopub.status.busy": "2024-04-02T15:16:00.429916Z",
          "iopub.execute_input": "2024-04-02T15:16:00.430366Z",
          "iopub.status.idle": "2024-04-02T15:16:00.906689Z",
          "shell.execute_reply.started": "2024-04-02T15:16:00.430328Z",
          "shell.execute_reply": "2024-04-02T15:16:00.905889Z"
        },
        "trusted": true,
        "id": "PGhZUwbNfHw1"
      },
      "execution_count": null,
      "outputs": []
    },
    {
      "cell_type": "code",
      "source": [
        "img_path = '/kaggle/input/rsna-breast-cancer-512-pngs'\n",
        "train_samples = 1000\n",
        "val_samples = 500\n",
        "\n",
        "train_ds = RSNADataset(train_df, img_path)\n",
        "val_ds = RSNADataset(val_df, img_path)\n",
        "\n",
        "train_sampler = WeightedRandomSampler(train_df['weights'].values, train_samples)\n",
        "train_loader = DataLoader(train_ds, batch_size=8, sampler=train_sampler)\n",
        "\n",
        "val_sampler = WeightedRandomSampler(val_df['weights'].values, val_samples)\n",
        "val_loader = DataLoader(val_ds, batch_size=32, sampler=val_sampler)"
      ],
      "metadata": {
        "execution": {
          "iopub.status.busy": "2024-04-02T15:16:00.907828Z",
          "iopub.execute_input": "2024-04-02T15:16:00.908108Z",
          "iopub.status.idle": "2024-04-02T15:16:00.915538Z",
          "shell.execute_reply.started": "2024-04-02T15:16:00.908082Z",
          "shell.execute_reply": "2024-04-02T15:16:00.914573Z"
        },
        "trusted": true,
        "id": "j1QW9ygZfHw1"
      },
      "execution_count": null,
      "outputs": []
    },
    {
      "cell_type": "markdown",
      "source": [
        "## 4.3 Training and Validation"
      ],
      "metadata": {
        "id": "ET4KpKQifHw1"
      }
    },
    {
      "cell_type": "code",
      "source": [
        "model = ViT(\n",
        "    img_size=(512, 512),\n",
        "    patch_size=(16, 16),\n",
        "    n_channels=1,\n",
        "    d_model=1024,\n",
        "    nhead=4,\n",
        "    dim_feedforward=1024,\n",
        "    blocks=8,\n",
        "    mlp_head_units=[512, 512],\n",
        "    n_classes=1,\n",
        ").to(device)"
      ],
      "metadata": {
        "execution": {
          "iopub.status.busy": "2024-04-02T15:16:00.919684Z",
          "iopub.execute_input": "2024-04-02T15:16:00.920023Z",
          "iopub.status.idle": "2024-04-02T15:16:03.16262Z",
          "shell.execute_reply.started": "2024-04-02T15:16:00.919982Z",
          "shell.execute_reply": "2024-04-02T15:16:03.161778Z"
        },
        "trusted": true,
        "id": "DPwtHVR0fHw1"
      },
      "execution_count": null,
      "outputs": []
    },
    {
      "cell_type": "code",
      "source": [
        "print(model)"
      ],
      "metadata": {
        "execution": {
          "iopub.status.busy": "2024-04-02T15:16:03.163704Z",
          "iopub.execute_input": "2024-04-02T15:16:03.164021Z",
          "iopub.status.idle": "2024-04-02T15:16:03.170066Z",
          "shell.execute_reply.started": "2024-04-02T15:16:03.163992Z",
          "shell.execute_reply": "2024-04-02T15:16:03.168959Z"
        },
        "trusted": true,
        "id": "D9YNPEnSfHw1",
        "outputId": "eb4f3fcb-4f53-4309-be98-2500b838ee3b"
      },
      "execution_count": null,
      "outputs": [
        {
          "name": "stdout",
          "text": "ViT(\n  (img2seq): Img2Seq(\n    (linear): Linear(in_features=256, out_features=1024, bias=True)\n  )\n  (transformer_encoder): TransformerEncoder(\n    (layers): ModuleList(\n      (0): TransformerEncoderLayer(\n        (self_attn): MultiheadAttention(\n          (out_proj): NonDynamicallyQuantizableLinear(in_features=1024, out_features=1024, bias=True)\n        )\n        (linear1): Linear(in_features=1024, out_features=1024, bias=True)\n        (dropout): Dropout(p=0.1, inplace=False)\n        (linear2): Linear(in_features=1024, out_features=1024, bias=True)\n        (norm1): LayerNorm((1024,), eps=1e-05, elementwise_affine=True)\n        (norm2): LayerNorm((1024,), eps=1e-05, elementwise_affine=True)\n        (dropout1): Dropout(p=0.1, inplace=False)\n        (dropout2): Dropout(p=0.1, inplace=False)\n      )\n      (1): TransformerEncoderLayer(\n        (self_attn): MultiheadAttention(\n          (out_proj): NonDynamicallyQuantizableLinear(in_features=1024, out_features=1024, bias=True)\n        )\n        (linear1): Linear(in_features=1024, out_features=1024, bias=True)\n        (dropout): Dropout(p=0.1, inplace=False)\n        (linear2): Linear(in_features=1024, out_features=1024, bias=True)\n        (norm1): LayerNorm((1024,), eps=1e-05, elementwise_affine=True)\n        (norm2): LayerNorm((1024,), eps=1e-05, elementwise_affine=True)\n        (dropout1): Dropout(p=0.1, inplace=False)\n        (dropout2): Dropout(p=0.1, inplace=False)\n      )\n      (2): TransformerEncoderLayer(\n        (self_attn): MultiheadAttention(\n          (out_proj): NonDynamicallyQuantizableLinear(in_features=1024, out_features=1024, bias=True)\n        )\n        (linear1): Linear(in_features=1024, out_features=1024, bias=True)\n        (dropout): Dropout(p=0.1, inplace=False)\n        (linear2): Linear(in_features=1024, out_features=1024, bias=True)\n        (norm1): LayerNorm((1024,), eps=1e-05, elementwise_affine=True)\n        (norm2): LayerNorm((1024,), eps=1e-05, elementwise_affine=True)\n        (dropout1): Dropout(p=0.1, inplace=False)\n        (dropout2): Dropout(p=0.1, inplace=False)\n      )\n      (3): TransformerEncoderLayer(\n        (self_attn): MultiheadAttention(\n          (out_proj): NonDynamicallyQuantizableLinear(in_features=1024, out_features=1024, bias=True)\n        )\n        (linear1): Linear(in_features=1024, out_features=1024, bias=True)\n        (dropout): Dropout(p=0.1, inplace=False)\n        (linear2): Linear(in_features=1024, out_features=1024, bias=True)\n        (norm1): LayerNorm((1024,), eps=1e-05, elementwise_affine=True)\n        (norm2): LayerNorm((1024,), eps=1e-05, elementwise_affine=True)\n        (dropout1): Dropout(p=0.1, inplace=False)\n        (dropout2): Dropout(p=0.1, inplace=False)\n      )\n      (4): TransformerEncoderLayer(\n        (self_attn): MultiheadAttention(\n          (out_proj): NonDynamicallyQuantizableLinear(in_features=1024, out_features=1024, bias=True)\n        )\n        (linear1): Linear(in_features=1024, out_features=1024, bias=True)\n        (dropout): Dropout(p=0.1, inplace=False)\n        (linear2): Linear(in_features=1024, out_features=1024, bias=True)\n        (norm1): LayerNorm((1024,), eps=1e-05, elementwise_affine=True)\n        (norm2): LayerNorm((1024,), eps=1e-05, elementwise_affine=True)\n        (dropout1): Dropout(p=0.1, inplace=False)\n        (dropout2): Dropout(p=0.1, inplace=False)\n      )\n      (5): TransformerEncoderLayer(\n        (self_attn): MultiheadAttention(\n          (out_proj): NonDynamicallyQuantizableLinear(in_features=1024, out_features=1024, bias=True)\n        )\n        (linear1): Linear(in_features=1024, out_features=1024, bias=True)\n        (dropout): Dropout(p=0.1, inplace=False)\n        (linear2): Linear(in_features=1024, out_features=1024, bias=True)\n        (norm1): LayerNorm((1024,), eps=1e-05, elementwise_affine=True)\n        (norm2): LayerNorm((1024,), eps=1e-05, elementwise_affine=True)\n        (dropout1): Dropout(p=0.1, inplace=False)\n        (dropout2): Dropout(p=0.1, inplace=False)\n      )\n      (6): TransformerEncoderLayer(\n        (self_attn): MultiheadAttention(\n          (out_proj): NonDynamicallyQuantizableLinear(in_features=1024, out_features=1024, bias=True)\n        )\n        (linear1): Linear(in_features=1024, out_features=1024, bias=True)\n        (dropout): Dropout(p=0.1, inplace=False)\n        (linear2): Linear(in_features=1024, out_features=1024, bias=True)\n        (norm1): LayerNorm((1024,), eps=1e-05, elementwise_affine=True)\n        (norm2): LayerNorm((1024,), eps=1e-05, elementwise_affine=True)\n        (dropout1): Dropout(p=0.1, inplace=False)\n        (dropout2): Dropout(p=0.1, inplace=False)\n      )\n      (7): TransformerEncoderLayer(\n        (self_attn): MultiheadAttention(\n          (out_proj): NonDynamicallyQuantizableLinear(in_features=1024, out_features=1024, bias=True)\n        )\n        (linear1): Linear(in_features=1024, out_features=1024, bias=True)\n        (dropout): Dropout(p=0.1, inplace=False)\n        (linear2): Linear(in_features=1024, out_features=1024, bias=True)\n        (norm1): LayerNorm((1024,), eps=1e-05, elementwise_affine=True)\n        (norm2): LayerNorm((1024,), eps=1e-05, elementwise_affine=True)\n        (dropout1): Dropout(p=0.1, inplace=False)\n        (dropout2): Dropout(p=0.1, inplace=False)\n      )\n    )\n  )\n  (mlp): Sequential(\n    (0): Linear(in_features=1024, out_features=512, bias=True)\n    (1): ReLU()\n    (2): Linear(in_features=512, out_features=512, bias=True)\n    (3): ReLU()\n    (4): Linear(in_features=512, out_features=1, bias=True)\n  )\n  (output): Sigmoid()\n)\n",
          "output_type": "stream"
        }
      ]
    },
    {
      "cell_type": "code",
      "source": [
        "optimizer = Adam(model.parameters())\n",
        "criterion = nn.BCELoss()\n",
        "bce = Loss(criterion)"
      ],
      "metadata": {
        "execution": {
          "iopub.status.busy": "2024-04-02T15:16:03.171296Z",
          "iopub.execute_input": "2024-04-02T15:16:03.171617Z",
          "iopub.status.idle": "2024-04-02T15:16:03.180889Z",
          "shell.execute_reply.started": "2024-04-02T15:16:03.17159Z",
          "shell.execute_reply": "2024-04-02T15:16:03.179988Z"
        },
        "trusted": true,
        "id": "vwXagh9UfHw1"
      },
      "execution_count": null,
      "outputs": []
    },
    {
      "cell_type": "code",
      "source": [
        "trainer = create_supervised_trainer(model, optimizer, criterion, device=device)\n",
        "val_metrics = {\n",
        "    \"bce\": bce,\n",
        "}\n",
        "evaluator = create_supervised_evaluator(model, metrics=val_metrics, device=device)"
      ],
      "metadata": {
        "execution": {
          "iopub.status.busy": "2024-04-02T15:16:03.182136Z",
          "iopub.execute_input": "2024-04-02T15:16:03.182442Z",
          "iopub.status.idle": "2024-04-02T15:16:03.19206Z",
          "shell.execute_reply.started": "2024-04-02T15:16:03.182414Z",
          "shell.execute_reply": "2024-04-02T15:16:03.19126Z"
        },
        "trusted": true,
        "id": "a7mQfGXRfHw1"
      },
      "execution_count": null,
      "outputs": []
    },
    {
      "cell_type": "code",
      "source": [
        "log_interval = 10\n",
        "max_epochs = 10\n",
        "best_loss = float('inf')\n",
        "\n",
        "RunningAverage(output_transform=lambda x: x).attach(trainer, 'loss')\n",
        "\n",
        "pbar = ProgressBar()\n",
        "pbar.attach(trainer, ['loss'])\n",
        "\n",
        "@trainer.on(Events.EPOCH_COMPLETED)\n",
        "def log_validation_results(trainer):\n",
        "    global best_loss\n",
        "    evaluator.run(val_loader)\n",
        "    loss = evaluator.state.metrics['bce']\n",
        "    if loss < best_loss:\n",
        "        best_loss = loss\n",
        "        torch.save(model.state_dict(), 'best_model_vit.pt')\n",
        "    print(f\"Validation Results - Epoch: {trainer.state.epoch} Avg loss: {loss:.2f}\")\n",
        "\n",
        "output_state = trainer.run(train_loader, max_epochs=max_epochs)"
      ],
      "metadata": {
        "execution": {
          "iopub.status.busy": "2024-04-02T15:16:03.193102Z",
          "iopub.execute_input": "2024-04-02T15:16:03.193395Z",
          "iopub.status.idle": "2024-04-02T15:40:52.047917Z",
          "shell.execute_reply.started": "2024-04-02T15:16:03.193369Z",
          "shell.execute_reply": "2024-04-02T15:40:52.046859Z"
        },
        "trusted": true,
        "id": "9ritRUDmfHw2",
        "outputId": "61549107-d542-48b6-dc56-9a574d7a1f5c",
        "colab": {
          "referenced_widgets": [
            ""
          ]
        }
      },
      "execution_count": null,
      "outputs": [
        {
          "output_type": "display_data",
          "data": {
            "text/plain": "[1/125]   1%|           [00:00<?]",
            "application/vnd.jupyter.widget-view+json": {
              "version_major": 2,
              "version_minor": 0,
              "model_id": ""
            }
          },
          "metadata": {}
        },
        {
          "name": "stdout",
          "text": "Validation Results - Epoch: 1 Avg loss: 0.70\n",
          "output_type": "stream"
        },
        {
          "output_type": "display_data",
          "data": {
            "text/plain": "[1/125]   1%|           [00:00<?]",
            "application/vnd.jupyter.widget-view+json": {
              "version_major": 2,
              "version_minor": 0,
              "model_id": ""
            }
          },
          "metadata": {}
        },
        {
          "name": "stdout",
          "text": "Validation Results - Epoch: 2 Avg loss: 0.69\n",
          "output_type": "stream"
        },
        {
          "output_type": "display_data",
          "data": {
            "text/plain": "[1/125]   1%|           [00:00<?]",
            "application/vnd.jupyter.widget-view+json": {
              "version_major": 2,
              "version_minor": 0,
              "model_id": ""
            }
          },
          "metadata": {}
        },
        {
          "name": "stdout",
          "text": "Validation Results - Epoch: 3 Avg loss: 0.69\n",
          "output_type": "stream"
        },
        {
          "output_type": "display_data",
          "data": {
            "text/plain": "[1/125]   1%|           [00:00<?]",
            "application/vnd.jupyter.widget-view+json": {
              "version_major": 2,
              "version_minor": 0,
              "model_id": ""
            }
          },
          "metadata": {}
        },
        {
          "name": "stdout",
          "text": "Validation Results - Epoch: 4 Avg loss: 0.69\n",
          "output_type": "stream"
        },
        {
          "output_type": "display_data",
          "data": {
            "text/plain": "[1/125]   1%|           [00:00<?]",
            "application/vnd.jupyter.widget-view+json": {
              "version_major": 2,
              "version_minor": 0,
              "model_id": ""
            }
          },
          "metadata": {}
        },
        {
          "name": "stdout",
          "text": "Validation Results - Epoch: 5 Avg loss: 0.69\n",
          "output_type": "stream"
        },
        {
          "output_type": "display_data",
          "data": {
            "text/plain": "[1/125]   1%|           [00:00<?]",
            "application/vnd.jupyter.widget-view+json": {
              "version_major": 2,
              "version_minor": 0,
              "model_id": ""
            }
          },
          "metadata": {}
        },
        {
          "name": "stdout",
          "text": "Validation Results - Epoch: 6 Avg loss: 0.69\n",
          "output_type": "stream"
        },
        {
          "output_type": "display_data",
          "data": {
            "text/plain": "[1/125]   1%|           [00:00<?]",
            "application/vnd.jupyter.widget-view+json": {
              "version_major": 2,
              "version_minor": 0,
              "model_id": ""
            }
          },
          "metadata": {}
        },
        {
          "name": "stdout",
          "text": "Validation Results - Epoch: 7 Avg loss: 0.69\n",
          "output_type": "stream"
        },
        {
          "output_type": "display_data",
          "data": {
            "text/plain": "[1/125]   1%|           [00:00<?]",
            "application/vnd.jupyter.widget-view+json": {
              "version_major": 2,
              "version_minor": 0,
              "model_id": ""
            }
          },
          "metadata": {}
        },
        {
          "name": "stdout",
          "text": "Validation Results - Epoch: 8 Avg loss: 0.69\n",
          "output_type": "stream"
        },
        {
          "output_type": "display_data",
          "data": {
            "text/plain": "[1/125]   1%|           [00:00<?]",
            "application/vnd.jupyter.widget-view+json": {
              "version_major": 2,
              "version_minor": 0,
              "model_id": ""
            }
          },
          "metadata": {}
        },
        {
          "name": "stdout",
          "text": "Validation Results - Epoch: 9 Avg loss: 0.69\n",
          "output_type": "stream"
        },
        {
          "output_type": "display_data",
          "data": {
            "text/plain": "[1/125]   1%|           [00:00<?]",
            "application/vnd.jupyter.widget-view+json": {
              "version_major": 2,
              "version_minor": 0,
              "model_id": ""
            }
          },
          "metadata": {}
        },
        {
          "name": "stdout",
          "text": "Validation Results - Epoch: 10 Avg loss: 0.69\n",
          "output_type": "stream"
        }
      ]
    },
    {
      "cell_type": "markdown",
      "source": [
        "## 4.4 Comparison with ResNet50"
      ],
      "metadata": {
        "id": "qe80mt5HfHw2"
      }
    },
    {
      "cell_type": "code",
      "source": [
        "resnet = models.resnet50(pretrained=True)\n",
        "in_features = resnet.fc.in_features\n",
        "resnet.fc = nn.Linear(in_features, 1)\n",
        "\n",
        "resnet_transforms= transforms.Compose([\n",
        "    transforms.Resize((228, 228)),\n",
        "    transforms.Lambda(lambda x: x.repeat([1, 3, 1, 1]))\n",
        "])\n",
        "\n",
        "class MyResNet(nn.Module):\n",
        "\n",
        "    def __init__(self, transforms, model):\n",
        "        super().__init__()\n",
        "        self.transforms = transforms\n",
        "        self.model = model\n",
        "        self.output = nn.Sigmoid()\n",
        "\n",
        "    def forward(self, batch):\n",
        "        batch = self.transforms(batch)\n",
        "        batch = self.model(batch)\n",
        "        return self.output(batch)"
      ],
      "metadata": {
        "execution": {
          "iopub.status.busy": "2024-04-02T15:40:52.049468Z",
          "iopub.execute_input": "2024-04-02T15:40:52.04992Z",
          "iopub.status.idle": "2024-04-02T15:40:52.620565Z",
          "shell.execute_reply.started": "2024-04-02T15:40:52.049878Z",
          "shell.execute_reply": "2024-04-02T15:40:52.619434Z"
        },
        "trusted": true,
        "id": "xxiOmkUBfHw2"
      },
      "execution_count": null,
      "outputs": []
    },
    {
      "cell_type": "code",
      "source": [
        "model = MyResNet(resnet_transforms, resnet).to(device)\n",
        "\n",
        "optimizer = Adam(model.parameters())\n",
        "criterion = nn.BCELoss()\n",
        "\n",
        "trainer = create_supervised_trainer(model, optimizer, criterion, device=device)\n",
        "val_metrics = {\n",
        "    \"bce\": Loss(criterion)\n",
        "}\n",
        "evaluator = create_supervised_evaluator(model, metrics=val_metrics, device=device)"
      ],
      "metadata": {
        "execution": {
          "iopub.status.busy": "2024-04-02T15:40:52.622129Z",
          "iopub.execute_input": "2024-04-02T15:40:52.622454Z",
          "iopub.status.idle": "2024-04-02T15:40:52.665353Z",
          "shell.execute_reply.started": "2024-04-02T15:40:52.62242Z",
          "shell.execute_reply": "2024-04-02T15:40:52.664557Z"
        },
        "trusted": true,
        "id": "YxmmBI02fHw2"
      },
      "execution_count": null,
      "outputs": []
    },
    {
      "cell_type": "code",
      "source": [
        "RunningAverage(output_transform=lambda x: x).attach(trainer, 'loss')\n",
        "\n",
        "pbar = ProgressBar()\n",
        "pbar.attach(trainer, ['loss'])\n",
        "\n",
        "@trainer.on(Events.EPOCH_COMPLETED)\n",
        "def log_validation_results(trainer):\n",
        "    global best_loss\n",
        "    evaluator.run(val_loader)\n",
        "    loss = evaluator.state.metrics['bce']\n",
        "    if loss < best_loss:\n",
        "        best_loss = loss\n",
        "        torch.save(model.state_dict(), 'best_model_resnet.pt')\n",
        "    print(f\"Validation Results - Epoch: {trainer.state.epoch} Avg loss: {loss:.2f}\")\n",
        "\n",
        "output_state = trainer.run(train_loader, max_epochs=max_epochs)"
      ],
      "metadata": {
        "execution": {
          "iopub.status.busy": "2024-04-02T15:40:52.66653Z",
          "iopub.execute_input": "2024-04-02T15:40:52.666866Z"
        },
        "trusted": true,
        "id": "6QYSCEDSfHw2",
        "outputId": "5a3ea254-fd85-4e9c-d4df-52cf8066f045",
        "colab": {
          "referenced_widgets": [
            "",
            "da83798cdda542e4abbad38fad178710"
          ]
        }
      },
      "execution_count": null,
      "outputs": [
        {
          "output_type": "display_data",
          "data": {
            "text/plain": "[1/125]   1%|           [00:00<?]",
            "application/vnd.jupyter.widget-view+json": {
              "version_major": 2,
              "version_minor": 0,
              "model_id": ""
            }
          },
          "metadata": {}
        },
        {
          "name": "stdout",
          "text": "Validation Results - Epoch: 1 Avg loss: 0.69\n",
          "output_type": "stream"
        },
        {
          "output_type": "display_data",
          "data": {
            "text/plain": "[1/125]   1%|           [00:00<?]",
            "application/vnd.jupyter.widget-view+json": {
              "version_major": 2,
              "version_minor": 0,
              "model_id": ""
            }
          },
          "metadata": {}
        },
        {
          "name": "stdout",
          "text": "Validation Results - Epoch: 2 Avg loss: 0.70\n",
          "output_type": "stream"
        },
        {
          "output_type": "display_data",
          "data": {
            "text/plain": "[1/125]   1%|           [00:00<?]",
            "application/vnd.jupyter.widget-view+json": {
              "version_major": 2,
              "version_minor": 0,
              "model_id": ""
            }
          },
          "metadata": {}
        },
        {
          "name": "stdout",
          "text": "Validation Results - Epoch: 3 Avg loss: 0.70\n",
          "output_type": "stream"
        },
        {
          "output_type": "display_data",
          "data": {
            "text/plain": "[1/125]   1%|           [00:00<?]",
            "application/vnd.jupyter.widget-view+json": {
              "version_major": 2,
              "version_minor": 0,
              "model_id": ""
            }
          },
          "metadata": {}
        },
        {
          "name": "stdout",
          "text": "Validation Results - Epoch: 4 Avg loss: 1.43\n",
          "output_type": "stream"
        },
        {
          "output_type": "display_data",
          "data": {
            "text/plain": "[1/125]   1%|           [00:00<?]",
            "application/vnd.jupyter.widget-view+json": {
              "version_major": 2,
              "version_minor": 0,
              "model_id": ""
            }
          },
          "metadata": {}
        },
        {
          "name": "stdout",
          "text": "Validation Results - Epoch: 5 Avg loss: 0.70\n",
          "output_type": "stream"
        },
        {
          "output_type": "display_data",
          "data": {
            "text/plain": "[1/125]   1%|           [00:00<?]",
            "application/vnd.jupyter.widget-view+json": {
              "version_major": 2,
              "version_minor": 0,
              "model_id": ""
            }
          },
          "metadata": {}
        },
        {
          "name": "stdout",
          "text": "Validation Results - Epoch: 6 Avg loss: 0.69\n",
          "output_type": "stream"
        },
        {
          "output_type": "display_data",
          "data": {
            "text/plain": "[1/125]   1%|           [00:00<?]",
            "application/vnd.jupyter.widget-view+json": {
              "version_major": 2,
              "version_minor": 0,
              "model_id": ""
            }
          },
          "metadata": {}
        },
        {
          "name": "stdout",
          "text": "Validation Results - Epoch: 7 Avg loss: 0.70\n",
          "output_type": "stream"
        },
        {
          "output_type": "display_data",
          "data": {
            "text/plain": "[1/125]   1%|           [00:00<?]",
            "application/vnd.jupyter.widget-view+json": {
              "version_major": 2,
              "version_minor": 0,
              "model_id": ""
            }
          },
          "metadata": {}
        },
        {
          "name": "stdout",
          "text": "Validation Results - Epoch: 8 Avg loss: 0.69\n",
          "output_type": "stream"
        },
        {
          "output_type": "display_data",
          "data": {
            "text/plain": "[1/125]   1%|           [00:00<?]",
            "application/vnd.jupyter.widget-view+json": {
              "version_major": 2,
              "version_minor": 0,
              "model_id": "da83798cdda542e4abbad38fad178710"
            }
          },
          "metadata": {}
        }
      ]
    },
    {
      "cell_type": "markdown",
      "source": [
        "# 5. Conclusion"
      ],
      "metadata": {
        "id": "61OsArcTfHw2"
      }
    },
    {
      "cell_type": "markdown",
      "source": [
        "The ViT model outperforms ReseNet50, one of the best CNN-based pretrained models. This shows great promise as it can be imporved further by fine-tuning and increasing the model complexity. ViTs are also great at scaling, so a bigger model almost always outperforms a smaller model."
      ],
      "metadata": {
        "id": "na_6y0vOfHw2"
      }
    }
  ]
}