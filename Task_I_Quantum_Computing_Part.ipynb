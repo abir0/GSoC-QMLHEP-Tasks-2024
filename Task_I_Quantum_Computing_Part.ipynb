{
  "nbformat": 4,
  "nbformat_minor": 0,
  "metadata": {
    "colab": {
      "provenance": [],
      "toc_visible": true
    },
    "kernelspec": {
      "name": "python3",
      "display_name": "Python 3"
    },
    "language_info": {
      "name": "python"
    }
  },
  "cells": [
    {
      "cell_type": "markdown",
      "source": [
        "## Setup"
      ],
      "metadata": {
        "id": "g655DPTh0kX8"
      }
    },
    {
      "cell_type": "code",
      "execution_count": null,
      "metadata": {
        "id": "M_Uuz1PXvyOS"
      },
      "outputs": [],
      "source": [
        "%%capture\n",
        "!pip install cirq"
      ]
    },
    {
      "cell_type": "code",
      "source": [
        "import cirq\n",
        "import numpy as np\n",
        "import matplotlib.pyplot as plt"
      ],
      "metadata": {
        "id": "cJLPGOAlwA9w"
      },
      "execution_count": null,
      "outputs": []
    },
    {
      "cell_type": "markdown",
      "source": [
        "## Task I: Quantum Computing Part"
      ],
      "metadata": {
        "id": "ZddNrWlixxav"
      }
    },
    {
      "cell_type": "markdown",
      "source": [
        "### 1. Implement a simple quantum circuit with Cirq"
      ],
      "metadata": {
        "id": "smPFel0pwGxt"
      }
    },
    {
      "cell_type": "code",
      "source": [
        "# a. With 5 qubits\n",
        "qubits = [cirq.LineQubit(i) for i in range(5)]\n",
        "\n",
        "circuit = cirq.Circuit()\n",
        "\n",
        "# b. Apply Hadamard operation on every qubit\n",
        "for qubit in qubits:\n",
        "    circuit.append(cirq.H(qubit))\n",
        "\n",
        "# c. Apply CNOT operation on (0, 1), (1,2), (2,3), (3,4)\n",
        "circuit.append(cirq.CNOT(qubits[0], qubits[1]))\n",
        "circuit.append(cirq.CNOT(qubits[1], qubits[2]))\n",
        "circuit.append(cirq.CNOT(qubits[2], qubits[3]))\n",
        "circuit.append(cirq.CNOT(qubits[3], qubits[4]))\n",
        "\n",
        "# d. SWAP (0, 4)\n",
        "circuit.append(cirq.SWAP(qubits[0], qubits[4]))\n",
        "\n",
        "# e. Rotate X with pi/2 on any qubit\n",
        "circuit.append(cirq.rx(0.5 * 3.14159)(qubits[2]))\n",
        "\n",
        "# f. Plot the circuit\n",
        "print(circuit)"
      ],
      "metadata": {
        "colab": {
          "base_uri": "https://localhost:8080/"
        },
        "id": "73mEMyBPv_Rc",
        "outputId": "d619a478-1527-44de-f6fd-a577949dc4b0"
      },
      "execution_count": null,
      "outputs": [
        {
          "output_type": "stream",
          "name": "stdout",
          "text": [
            "0: ───H───@──────────────────────×───\n",
            "          │                      │\n",
            "1: ───H───X───@──────────────────┼───\n",
            "              │                  │\n",
            "2: ───H───────X───@───Rx(0.5π)───┼───\n",
            "                  │              │\n",
            "3: ───H───────────X───@──────────┼───\n",
            "                      │          │\n",
            "4: ───H───────────────X──────────×───\n"
          ]
        }
      ]
    },
    {
      "cell_type": "markdown",
      "source": [
        "### 2. Implement SWAP test circuit with Cirq"
      ],
      "metadata": {
        "id": "Mo6fTW6Bx1ur"
      }
    },
    {
      "cell_type": "code",
      "source": [
        "s = cirq.NamedQubit.range(2, prefix=\"s\")\n",
        "qubits = cirq.LineQubit.range(4)\n",
        "cr = cirq.LineQubit.range(2)\n",
        "\n",
        "qc = cirq.Circuit()\n",
        "\n",
        "qc.append(cirq.H(qubits[0]))\n",
        "qc.append(cirq.rx(np.pi / 3)(qubits[1]))\n",
        "qc.append([cirq.H(q) for q in qubits[2:4]])\n",
        "\n",
        "qc.append(cirq.Moment([cirq.H(s[0])]))\n",
        "qc.append(cirq.CSWAP(s[0], qubits[0], qubits[1]))\n",
        "qc.append(cirq.H(s[0]))\n",
        "qc.append(cirq.Moment([cirq.H(s[1])]))\n",
        "qc.append(cirq.CSWAP(s[1], qubits[2], qubits[3]))\n",
        "qc.append(cirq.H(s[1]))\n",
        "\n",
        "qc.append(cirq.measure(*s, key='x'))\n",
        "\n",
        "print(qc)"
      ],
      "metadata": {
        "colab": {
          "base_uri": "https://localhost:8080/"
        },
        "id": "lTVetqO8vuWV",
        "outputId": "41208fe0-b09e-4dc5-d1d1-c4278dc6f571"
      },
      "execution_count": null,
      "outputs": [
        {
          "output_type": "stream",
          "name": "stdout",
          "text": [
            "0: ────H────────────────×────────────────────────────\n",
            "                        │\n",
            "1: ────Rx(0.333π)───────×────────────────────────────\n",
            "                        │\n",
            "2: ────H────────────────┼───────────×────────────────\n",
            "                        │           │\n",
            "3: ────H────────────────┼───────────×────────────────\n",
            "                        │           │\n",
            "s0: ────────────────H───@───H───────┼───────M('x')───\n",
            "                                    │       │\n",
            "s1: ────────────────────────────H───@───H───M────────\n"
          ]
        }
      ]
    },
    {
      "cell_type": "code",
      "source": [
        "# Simulate the circuit\n",
        "simulator = cirq.Simulator()\n",
        "result = simulator.run(qc, repetitions=1000)"
      ],
      "metadata": {
        "id": "mlbb7ihzzkXk"
      },
      "execution_count": null,
      "outputs": []
    },
    {
      "cell_type": "code",
      "source": [
        "# Plot the results\n",
        "counts = result.histogram(key='x')\n",
        "outcomes = ['00', '01', '10', '11']\n",
        "\n",
        "plt.bar(counts.keys(), counts.values())\n",
        "plt.xlabel('State')\n",
        "plt.ylabel('Frequency')\n",
        "plt.xticks(range(4), outcomes)\n",
        "plt.title('Measurement outcomes')\n",
        "plt.show()"
      ],
      "metadata": {
        "colab": {
          "base_uri": "https://localhost:8080/",
          "height": 472
        },
        "id": "5HhVwx2py0Zu",
        "outputId": "4edad193-b67e-47c0-9eb3-db7530355365"
      },
      "execution_count": null,
      "outputs": [
        {
          "output_type": "display_data",
          "data": {
            "text/plain": [
              "<Figure size 640x480 with 1 Axes>"
            ],
            "image/png": "[encoded data removed]"
          },
          "metadata": {}
        }
      ]
    },
    {
      "cell_type": "markdown",
      "source": [
        "Fidelity of states $\\phi$ and $\\psi$ = $\\left| \\langle \\phi | \\psi \\rangle \\right|^2$"
      ],
      "metadata": {
        "id": "I6OhPQW-1U1T"
      }
    },
    {
      "cell_type": "code",
      "source": [
        "prob_0 = np.sum(result.measurements['x']) / len(result.measurements['x'])\n",
        "fidelity = 1 - 2 * prob_0\n",
        "print(f\"Fidelity of q0 and q1: {fidelity}\")"
      ],
      "metadata": {
        "id": "g-PZkimDzhk9",
        "colab": {
          "base_uri": "https://localhost:8080/"
        },
        "outputId": "8e48d466-8f7b-4651-8eec-4b65155d65c5"
      },
      "execution_count": null,
      "outputs": [
        {
          "output_type": "stream",
          "name": "stdout",
          "text": [
            "Fidelity of q0 and q1: 0.482\n"
          ]
        }
      ]
    },
    {
      "cell_type": "code",
      "source": [
        "prob_0 = 0 / len(result.measurements['x'])\n",
        "fidelity = 1 - 2 * prob_0\n",
        "print(f\"Fidelity of q2 and q3: {fidelity}\")"
      ],
      "metadata": {
        "colab": {
          "base_uri": "https://localhost:8080/"
        },
        "id": "vG-dEZPD2Lb2",
        "outputId": "95ff77b1-e041-4d88-85fe-a4d80deb2233"
      },
      "execution_count": null,
      "outputs": [
        {
          "output_type": "stream",
          "name": "stdout",
          "text": [
            "Fidelity of q2 and q3: 1.0\n"
          ]
        }
      ]
    }
  ]
}